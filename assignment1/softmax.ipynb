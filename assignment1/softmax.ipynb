{
  "nbformat": 4,
  "nbformat_minor": 0,
  "metadata": {
    "colab": {
      "name": "softmax.ipynb",
      "provenance": []
    },
    "kernelspec": {
      "name": "python3",
      "display_name": "Python 3"
    }
  },
  "cells": [
    {
      "cell_type": "code",
      "metadata": {
        "id": "MBHtaKxAvbAQ",
        "colab_type": "code",
        "colab": {
          "base_uri": "https://localhost:8080/",
          "height": 530
        },
        "outputId": "a1f43e2e-a8e5-42c4-f181-b36308c40a7e"
      },
      "source": [
        "from google.colab import drive\n",
        "\n",
        "drive.mount('/content/drive', force_remount=True)\n",
        "\n",
        "# enter the foldername in your Drive where you have saved the unzipped\n",
        "# 'cs231n' folder containing the '.py', 'classifiers' and 'datasets'\n",
        "# folders.\n",
        "# e.g. 'cs231n/assignments/assignment1/cs231n/'\n",
        "FOLDERNAME = 'cs231n/assignments/assignment1/cs231n/'\n",
        "\n",
        "assert FOLDERNAME is not None, \"[!] Enter the foldername.\"\n",
        "\n",
        "%cd drive/My\\ Drive\n",
        "%cp -r $FOLDERNAME ../../\n",
        "%cd ../../\n",
        "%cd cs231n/datasets/\n",
        "!bash get_datasets.sh\n",
        "%cd ../../"
      ],
      "execution_count": null,
      "outputs": [
        {
          "output_type": "stream",
          "text": [
            "Go to this URL in a browser: https://accounts.google.com/o/oauth2/auth?client_id=947318989803-6bn6qk8qdgf4n4g3pfee6491hc0brc4i.apps.googleusercontent.com&redirect_uri=urn%3aietf%3awg%3aoauth%3a2.0%3aoob&scope=email%20https%3a%2f%2fwww.googleapis.com%2fauth%2fdocs.test%20https%3a%2f%2fwww.googleapis.com%2fauth%2fdrive%20https%3a%2f%2fwww.googleapis.com%2fauth%2fdrive.photos.readonly%20https%3a%2f%2fwww.googleapis.com%2fauth%2fpeopleapi.readonly&response_type=code\n",
            "\n",
            "Enter your authorization code:\n",
            "··········\n",
            "Mounted at /content/drive\n",
            "/content/drive/My Drive\n",
            "/content\n",
            "/content/cs231n/datasets\n",
            "--2020-09-01 17:37:55--  http://www.cs.toronto.edu/~kriz/cifar-10-python.tar.gz\n",
            "Resolving www.cs.toronto.edu (www.cs.toronto.edu)... 128.100.3.30\n",
            "Connecting to www.cs.toronto.edu (www.cs.toronto.edu)|128.100.3.30|:80... connected.\n",
            "HTTP request sent, awaiting response... 200 OK\n",
            "Length: 170498071 (163M) [application/x-gzip]\n",
            "Saving to: ‘cifar-10-python.tar.gz’\n",
            "\n",
            "cifar-10-python.tar 100%[===================>] 162.60M  16.5MB/s    in 11s     \n",
            "\n",
            "2020-09-01 17:38:07 (14.3 MB/s) - ‘cifar-10-python.tar.gz’ saved [170498071/170498071]\n",
            "\n",
            "cifar-10-batches-py/\n",
            "cifar-10-batches-py/data_batch_4\n",
            "cifar-10-batches-py/readme.html\n",
            "cifar-10-batches-py/test_batch\n",
            "cifar-10-batches-py/data_batch_3\n",
            "cifar-10-batches-py/batches.meta\n",
            "cifar-10-batches-py/data_batch_2\n",
            "cifar-10-batches-py/data_batch_5\n",
            "cifar-10-batches-py/data_batch_1\n",
            "/content\n"
          ],
          "name": "stdout"
        }
      ]
    },
    {
      "cell_type": "markdown",
      "metadata": {
        "tags": [
          "pdf-title"
        ],
        "id": "xP6K8jaovbAV",
        "colab_type": "text"
      },
      "source": [
        "# Softmax exercise\n",
        "\n",
        "*Complete and hand in this completed worksheet (including its outputs and any supporting code outside of the worksheet) with your assignment submission. For more details see the [assignments page](http://vision.stanford.edu/teaching/cs231n/assignments.html) on the course website.*\n",
        "\n",
        "This exercise is analogous to the SVM exercise. You will:\n",
        "\n",
        "- implement a fully-vectorized **loss function** for the Softmax classifier\n",
        "- implement the fully-vectorized expression for its **analytic gradient**\n",
        "- **check your implementation** with numerical gradient\n",
        "- use a validation set to **tune the learning rate and regularization** strength\n",
        "- **optimize** the loss function with **SGD**\n",
        "- **visualize** the final learned weights\n"
      ]
    },
    {
      "cell_type": "code",
      "metadata": {
        "tags": [
          "pdf-ignore"
        ],
        "id": "GkIUm4xfvbAV",
        "colab_type": "code",
        "colab": {}
      },
      "source": [
        "import random\n",
        "import numpy as np\n",
        "from cs231n.data_utils import load_CIFAR10\n",
        "import matplotlib.pyplot as plt\n",
        "\n",
        "%matplotlib inline\n",
        "plt.rcParams['figure.figsize'] = (10.0, 8.0) # set default size of plots\n",
        "plt.rcParams['image.interpolation'] = 'nearest'\n",
        "plt.rcParams['image.cmap'] = 'gray'\n",
        "\n",
        "# for auto-reloading extenrnal modules\n",
        "# see http://stackoverflow.com/questions/1907993/autoreload-of-modules-in-ipython\n",
        "%load_ext autoreload\n",
        "%autoreload 2"
      ],
      "execution_count": null,
      "outputs": []
    },
    {
      "cell_type": "code",
      "metadata": {
        "tags": [
          "pdf-ignore"
        ],
        "id": "EJzxp71bvbAY",
        "colab_type": "code",
        "colab": {
          "base_uri": "https://localhost:8080/",
          "height": 153
        },
        "outputId": "030e7c3c-90d1-46e7-d426-bf792f11dcb6"
      },
      "source": [
        "def get_CIFAR10_data(num_training=49000, num_validation=1000, num_test=1000, num_dev=500):\n",
        "    \"\"\"\n",
        "    Load the CIFAR-10 dataset from disk and perform preprocessing to prepare\n",
        "    it for the linear classifier. These are the same steps as we used for the\n",
        "    SVM, but condensed to a single function.  \n",
        "    \"\"\"\n",
        "    # Load the raw CIFAR-10 data\n",
        "    cifar10_dir = 'cs231n/datasets/cifar-10-batches-py'\n",
        "    \n",
        "    # Cleaning up variables to prevent loading data multiple times (which may cause memory issue)\n",
        "    try:\n",
        "       del X_train, y_train\n",
        "       del X_test, y_test\n",
        "       print('Clear previously loaded data.')\n",
        "    except:\n",
        "       pass\n",
        "\n",
        "    X_train, y_train, X_test, y_test = load_CIFAR10(cifar10_dir)\n",
        "    \n",
        "    # subsample the data\n",
        "    mask = list(range(num_training, num_training + num_validation))\n",
        "    X_val = X_train[mask]\n",
        "    y_val = y_train[mask]\n",
        "    mask = list(range(num_training))\n",
        "    X_train = X_train[mask]\n",
        "    y_train = y_train[mask]\n",
        "    mask = list(range(num_test))\n",
        "    X_test = X_test[mask]\n",
        "    y_test = y_test[mask]\n",
        "    mask = np.random.choice(num_training, num_dev, replace=False)\n",
        "    X_dev = X_train[mask]\n",
        "    y_dev = y_train[mask]\n",
        "    \n",
        "    # Preprocessing: reshape the image data into rows\n",
        "    X_train = np.reshape(X_train, (X_train.shape[0], -1))\n",
        "    X_val = np.reshape(X_val, (X_val.shape[0], -1))\n",
        "    X_test = np.reshape(X_test, (X_test.shape[0], -1))\n",
        "    X_dev = np.reshape(X_dev, (X_dev.shape[0], -1))\n",
        "    \n",
        "    # Normalize the data: subtract the mean image\n",
        "    mean_image = np.mean(X_train, axis = 0)\n",
        "    X_train -= mean_image\n",
        "    X_val -= mean_image\n",
        "    X_test -= mean_image\n",
        "    X_dev -= mean_image\n",
        "    \n",
        "    # add bias dimension and transform into columns\n",
        "    X_train = np.hstack([X_train, np.ones((X_train.shape[0], 1))])\n",
        "    X_val = np.hstack([X_val, np.ones((X_val.shape[0], 1))])\n",
        "    X_test = np.hstack([X_test, np.ones((X_test.shape[0], 1))])\n",
        "    X_dev = np.hstack([X_dev, np.ones((X_dev.shape[0], 1))])\n",
        "    \n",
        "    return X_train, y_train, X_val, y_val, X_test, y_test, X_dev, y_dev\n",
        "\n",
        "\n",
        "# Invoke the above function to get our data.\n",
        "X_train, y_train, X_val, y_val, X_test, y_test, X_dev, y_dev = get_CIFAR10_data()\n",
        "print('Train data shape: ', X_train.shape)\n",
        "print('Train labels shape: ', y_train.shape)\n",
        "print('Validation data shape: ', X_val.shape)\n",
        "print('Validation labels shape: ', y_val.shape)\n",
        "print('Test data shape: ', X_test.shape)\n",
        "print('Test labels shape: ', y_test.shape)\n",
        "print('dev data shape: ', X_dev.shape)\n",
        "print('dev labels shape: ', y_dev.shape)"
      ],
      "execution_count": null,
      "outputs": [
        {
          "output_type": "stream",
          "text": [
            "Train data shape:  (49000, 3073)\n",
            "Train labels shape:  (49000,)\n",
            "Validation data shape:  (1000, 3073)\n",
            "Validation labels shape:  (1000,)\n",
            "Test data shape:  (1000, 3073)\n",
            "Test labels shape:  (1000,)\n",
            "dev data shape:  (500, 3073)\n",
            "dev labels shape:  (500,)\n"
          ],
          "name": "stdout"
        }
      ]
    },
    {
      "cell_type": "markdown",
      "metadata": {
        "id": "gcKbEp49vbAc",
        "colab_type": "text"
      },
      "source": [
        "## Softmax Classifier\n",
        "\n",
        "Your code for this section will all be written inside `cs231n/classifiers/softmax.py`.\n"
      ]
    },
    {
      "cell_type": "code",
      "metadata": {
        "id": "jCC023E1vbAc",
        "colab_type": "code",
        "colab": {
          "base_uri": "https://localhost:8080/",
          "height": 51
        },
        "outputId": "c8826a68-c77d-4441-a5dc-557a5bc411eb"
      },
      "source": [
        "# First implement the naive softmax loss function with nested loops.\n",
        "# Open the file cs231n/classifiers/softmax.py and implement the\n",
        "# softmax_loss_naive function.\n",
        "\n",
        "# from cs231n.classifiers.softmax import softmax_loss_naive\n",
        "import time\n",
        "\n",
        "def softmax_loss_naive(W, X, y, reg):\n",
        "    \"\"\"\n",
        "    Softmax loss function, naive implementation (with loops)\n",
        "\n",
        "    Inputs have dimension D, there are C classes, and we operate on minibatches\n",
        "    of N examples.\n",
        "\n",
        "    Inputs:\n",
        "    - W: A numpy array of shape (D, C) containing weights.\n",
        "    - X: A numpy array of shape (N, D) containing a minibatch of data.\n",
        "    - y: A numpy array of shape (N,) containing training labels; y[i] = c means\n",
        "      that X[i] has label c, where 0 <= c < C.\n",
        "    - reg: (float) regularization strength\n",
        "\n",
        "    Returns a tuple of:\n",
        "    - loss as single float\n",
        "    - gradient with respect to weights W; an array of same shape as W\n",
        "    \"\"\"\n",
        "    # Initialize the loss and gradient to zero.\n",
        "    loss = 0.0\n",
        "    dW = np.zeros_like(W)\n",
        "\n",
        "    #############################################################################\n",
        "    # TODO: Compute the softmax loss and its gradient using explicit loops.     #\n",
        "    # Store the loss in loss and the gradient in dW. If you are not careful     #\n",
        "    # here, it is easy to run into numeric instability. Don't forget the        #\n",
        "    # regularization!                                                           #\n",
        "    #############################################################################\n",
        "    # *****START OF YOUR CODE (DO NOT DELETE/MODIFY THIS LINE)*****\n",
        "\n",
        "    num_classes = W.shape[1]\n",
        "    num_train = X.shape[0]\n",
        "    scores = X.dot(W)\n",
        "\n",
        "    for i in range(num_train):\n",
        "        f_i = scores[i] -np.max(scores[i])\n",
        "        softmax = np.exp(f_i)/np.sum(np.exp(f_i))\n",
        "        loss += -np.log(softmax[y[i]])\n",
        "        for j in range(num_classes):\n",
        "            dW[:, j] += (softmax[j]-(j == y[i])) * X[i, :]\n",
        "\n",
        "    loss /= num_train\n",
        "    dW /= num_train\n",
        "    loss += reg * np.sum(W * W)\n",
        "    dW += reg * 2 * W \n",
        "\n",
        "    # *****END OF YOUR CODE (DO NOT DELETE/MODIFY THIS LINE)*****\n",
        "\n",
        "    return loss, dW\n",
        "\n",
        "# Generate a random softmax weight matrix and use it to compute the loss.\n",
        "W = np.random.randn(3073, 10) * 0.0001\n",
        "loss, grad = softmax_loss_naive(W, X_dev, y_dev, 0.0)\n",
        "\n",
        "# As a rough sanity check, our loss should be something close to -log(0.1).\n",
        "print('loss: %f' % loss)\n",
        "print('sanity check: %f' % (-np.log(0.1)))"
      ],
      "execution_count": null,
      "outputs": [
        {
          "output_type": "stream",
          "text": [
            "loss: 2.358588\n",
            "sanity check: 2.302585\n"
          ],
          "name": "stdout"
        }
      ]
    },
    {
      "cell_type": "markdown",
      "metadata": {
        "tags": [
          "pdf-inline"
        ],
        "id": "jLnWaMNlvbAf",
        "colab_type": "text"
      },
      "source": [
        "**Inline Question 1**\n",
        "\n",
        "Why do we expect our loss to be close to -log(0.1)? Explain briefly.**\n",
        "\n",
        "$\\color{blue}{\\textit Your Answer:}$ The loss is defined as the negative loss of the correct class index of the softmaxed scores. Since the softmaxed scores correspond to the classification probabilites and since there are 10 classes, we expect a random network to have a loss of -log(0.1). \n",
        "\n"
      ]
    },
    {
      "cell_type": "code",
      "metadata": {
        "id": "PoESD_zDvbAg",
        "colab_type": "code",
        "colab": {
          "base_uri": "https://localhost:8080/",
          "height": 357
        },
        "outputId": "b86ba685-31e7-4006-a124-5b29442c4b81"
      },
      "source": [
        "# Complete the implementation of softmax_loss_naive and implement a (naive)\n",
        "# version of the gradient that uses nested loops.\n",
        "loss, grad = softmax_loss_naive(W, X_dev, y_dev, 0.0)\n",
        "\n",
        "# As we did for the SVM, use numeric gradient checking as a debugging tool.\n",
        "# The numeric gradient should be close to the analytic gradient.\n",
        "from cs231n.gradient_check import grad_check_sparse\n",
        "f = lambda w: softmax_loss_naive(w, X_dev, y_dev, 0.0)[0]\n",
        "grad_numerical = grad_check_sparse(f, W, grad, 10)\n",
        "\n",
        "# similar to SVM case, do another gradient check with regularization\n",
        "loss, grad = softmax_loss_naive(W, X_dev, y_dev, 5e1)\n",
        "f = lambda w: softmax_loss_naive(w, X_dev, y_dev, 5e1)[0]\n",
        "grad_numerical = grad_check_sparse(f, W, grad, 10)"
      ],
      "execution_count": null,
      "outputs": [
        {
          "output_type": "stream",
          "text": [
            "numerical: -2.571838 analytic: -2.571838, relative error: 5.926172e-09\n",
            "numerical: -0.420268 analytic: -0.420268, relative error: 6.615534e-09\n",
            "numerical: 2.456004 analytic: 2.456004, relative error: 1.986443e-08\n",
            "numerical: 1.956464 analytic: 1.956464, relative error: 2.080607e-08\n",
            "numerical: -1.836613 analytic: -1.836612, relative error: 2.274876e-08\n",
            "numerical: 0.743311 analytic: 0.743311, relative error: 3.009511e-08\n",
            "numerical: 1.082964 analytic: 1.082964, relative error: 2.625964e-08\n",
            "numerical: -1.127497 analytic: -1.127497, relative error: 5.842704e-09\n",
            "numerical: 0.973314 analytic: 0.973314, relative error: 4.874446e-08\n",
            "numerical: 1.240233 analytic: 1.240233, relative error: 2.988109e-08\n",
            "numerical: -1.985782 analytic: -1.985782, relative error: 1.952272e-09\n",
            "numerical: -1.663191 analytic: -1.663191, relative error: 1.224585e-09\n",
            "numerical: -2.143294 analytic: -2.143294, relative error: 8.138714e-09\n",
            "numerical: -1.595922 analytic: -1.595922, relative error: 2.287450e-08\n",
            "numerical: 1.915608 analytic: 1.915608, relative error: 1.959381e-08\n",
            "numerical: 0.226609 analytic: 0.226609, relative error: 2.381871e-07\n",
            "numerical: -2.472627 analytic: -2.472627, relative error: 3.299981e-09\n",
            "numerical: 0.400303 analytic: 0.400303, relative error: 9.712322e-08\n",
            "numerical: 1.476338 analytic: 1.476338, relative error: 2.178354e-08\n",
            "numerical: -1.426773 analytic: -1.426773, relative error: 1.166242e-08\n"
          ],
          "name": "stdout"
        }
      ]
    },
    {
      "cell_type": "code",
      "metadata": {
        "id": "lwMoIYw_J7Yg",
        "colab_type": "code",
        "colab": {}
      },
      "source": [
        "def softmax_loss_vectorized(W, X, y, reg):\n",
        "    \"\"\"\n",
        "    Softmax loss function, vectorized version.\n",
        "\n",
        "    Inputs and outputs are the same as softmax_loss_naive.\n",
        "    \"\"\"\n",
        "    # Initialize the loss and gradient to zero.\n",
        "    loss = 0.0\n",
        "    dW = np.zeros_like(W)\n",
        "\n",
        "    #############################################################################\n",
        "    # TODO: Compute the softmax loss and its gradient using no explicit loops.  #\n",
        "    # Store the loss in loss and the gradient in dW. If you are not careful     #\n",
        "    # here, it is easy to run into numeric instability. Don't forget the        #\n",
        "    # regularization!                                                           #\n",
        "    #############################################################################\n",
        "    # *****START OF YOUR CODE (DO NOT DELETE/MODIFY THIS LINE)*****\n",
        "\n",
        "    num_classes = W.shape[1]\n",
        "    num_train = X.shape[0]\n",
        "    scores = X.dot(W)\n",
        "\n",
        "    f = scores - np.max(scores,1,keepdims=True) #broadcast\n",
        "    exp = np.exp(f)\n",
        "    softmax = exp/np.sum(exp,1,keepdims=True)\n",
        "    loss = np.mean(-np.log(softmax[y]))\n",
        "\n",
        "    softmax[range(num_train),y]-=1\n",
        "    dW = X.T@softmax/num_train\n",
        "\n",
        "    loss += reg * np.sum(W * W)\n",
        "    dW += reg * 2 * W \n",
        "\n",
        "    # *****END OF YOUR CODE (DO NOT DELETE/MODIFY THIS LINE)*****\n",
        "\n",
        "    return loss, dW"
      ],
      "execution_count": 154,
      "outputs": []
    },
    {
      "cell_type": "code",
      "metadata": {
        "id": "CCDltwrRvbAi",
        "colab_type": "code",
        "colab": {
          "base_uri": "https://localhost:8080/",
          "height": 85
        },
        "outputId": "13ebc78c-5692-4594-c0c5-f66c5b6b20dc"
      },
      "source": [
        "# Now that we have a naive implementation of the softmax loss function and its gradient,\n",
        "# implement a vectorized version in softmax_loss_vectorized.\n",
        "# The two versions should compute the same results, but the vectorized version should be\n",
        "# much faster.\n",
        "tic = time.time()\n",
        "loss_naive, grad_naive = softmax_loss_naive(W, X_dev, y_dev, 0.000005)\n",
        "toc = time.time()\n",
        "print('naive loss: %e computed in %fs' % (loss_naive, toc - tic))\n",
        "\n",
        "# from cs231n.classifiers.softmax import softmax_loss_vectorized\n",
        "tic = time.time()\n",
        "loss_vectorized, grad_vectorized = softmax_loss_vectorized(W, X_dev, y_dev, 0.000005)\n",
        "toc = time.time()\n",
        "print('vectorized loss: %e computed in %fs' % (loss_vectorized, toc - tic))\n",
        "\n",
        "# As we did for the SVM, we use the Frobenius norm to compare the two versions\n",
        "# of the gradient.\n",
        "grad_difference = np.linalg.norm(grad_naive - grad_vectorized, ord='fro')\n",
        "print('Loss difference: %f' % np.abs(loss_naive - loss_vectorized))\n",
        "print('Gradient difference: %f' % grad_difference)"
      ],
      "execution_count": 152,
      "outputs": [
        {
          "output_type": "stream",
          "text": [
            "naive loss: 2.358588e+00 computed in 0.128489s\n",
            "vectorized loss: 2.350348e+00 computed in 0.009798s\n",
            "Loss difference: 0.008240\n",
            "Gradient difference: 0.000000\n"
          ],
          "name": "stdout"
        }
      ]
    },
    {
      "cell_type": "code",
      "metadata": {
        "id": "tuning",
        "tags": [
          "code"
        ],
        "colab_type": "code",
        "colab": {
          "base_uri": "https://localhost:8080/",
          "height": 1000
        },
        "outputId": "70808177-dbce-4b76-83f6-09c3a33cbe1c"
      },
      "source": [
        "# Use the validation set to tune hyperparameters (regularization strength and\n",
        "# learning rate). You should experiment with different ranges for the learning\n",
        "# rates and regularization strengths; if you are careful you should be able to\n",
        "# get a classification accuracy of over 0.35 on the validation set.\n",
        "\n",
        "from cs231n.classifiers import Softmax\n",
        "\n",
        "def train(self, X, y, learning_rate=1e-3, reg=1e-5, num_iters=100,\n",
        "              batch_size=200, verbose=False):\n",
        "        \"\"\"\n",
        "        Train this linear classifier using stochastic gradient descent.\n",
        "\n",
        "        Inputs:\n",
        "        - X: A numpy array of shape (N, D) containing training data; there are N\n",
        "          training samples each of dimension D.\n",
        "        - y: A numpy array of shape (N,) containing training labels; y[i] = c\n",
        "          means that X[i] has label 0 <= c < C for C classes.\n",
        "        - learning_rate: (float) learning rate for optimization.\n",
        "        - reg: (float) regularization strength.\n",
        "        - num_iters: (integer) number of steps to take when optimizing\n",
        "        - batch_size: (integer) number of training examples to use at each step.\n",
        "        - verbose: (boolean) If true, print progress during optimization.\n",
        "\n",
        "        Outputs:\n",
        "        A list containing the value of the loss function at each training iteration.\n",
        "        \"\"\"\n",
        "        num_train, dim = X.shape\n",
        "        num_classes = np.max(y) + 1 # assume y takes values 0...K-1 where K is number of classes\n",
        "        if self.W is None:\n",
        "            # lazily initialize W\n",
        "            self.W = 0.001 * np.random.randn(dim, num_classes)\n",
        "\n",
        "        # Run stochastic gradient descent to optimize W\n",
        "        loss_history = []\n",
        "        for it in range(num_iters):\n",
        "            X_batch = None\n",
        "            y_batch = None\n",
        "\n",
        "            #########################################################################\n",
        "            # TODO:                                                                 #\n",
        "            # Sample batch_size elements from the training data and their           #\n",
        "            # corresponding labels to use in this round of gradient descent.        #\n",
        "            # Store the data in X_batch and their corresponding labels in           #\n",
        "            # y_batch; after sampling X_batch should have shape (batch_size, dim)   #\n",
        "            # and y_batch should have shape (batch_size,)                           #\n",
        "            #                                                                       #\n",
        "            # Hint: Use np.random.choice to generate indices. Sampling with         #\n",
        "            # replacement is faster than sampling without replacement.              #\n",
        "            #########################################################################\n",
        "            # *****START OF YOUR CODE (DO NOT DELETE/MODIFY THIS LINE)*****\n",
        "\n",
        "            # sampling without replacement is slower but converges faster\n",
        "            indices = np.random.choice(np.arange(num_train),batch_size, False)\n",
        "            X_batch = X[indices]\n",
        "            y_batch = y[indices] \n",
        "\n",
        "            # *****END OF YOUR CODE (DO NOT DELETE/MODIFY THIS LINE)*****\n",
        "\n",
        "            # evaluate loss and gradient\n",
        "            loss, grad = self.loss(X_batch, y_batch, reg)\n",
        "            loss_history.append(loss)\n",
        "\n",
        "            # perform parameter update\n",
        "            #########################################################################\n",
        "            # TODO:                                                                 #\n",
        "            # Update the weights using the gradient and the learning rate.          #\n",
        "            #########################################################################\n",
        "            # *****START OF YOUR CODE (DO NOT DELETE/MODIFY THIS LINE)*****\n",
        "\n",
        "            self.W -= learning_rate*grad\n",
        "\n",
        "            # *****END OF YOUR CODE (DO NOT DELETE/MODIFY THIS LINE)*****\n",
        "\n",
        "            if verbose and it % 100 == 0:\n",
        "                print('iteration %d / %d: loss %f' % (it, num_iters, loss))\n",
        "\n",
        "        return loss_history\n",
        "\n",
        "def predict(self, X):\n",
        "        \"\"\"\n",
        "        Use the trained weights of this linear classifier to predict labels for\n",
        "        data points.\n",
        "\n",
        "        Inputs:\n",
        "        - X: A numpy array of shape (N, D) containing training data; there are N\n",
        "          training samples each of dimension D.\n",
        "\n",
        "        Returns:\n",
        "        - y_pred: Predicted labels for the data in X. y_pred is a 1-dimensional\n",
        "          array of length N, and each element is an integer giving the predicted\n",
        "          class.\n",
        "        \"\"\"\n",
        "        y_pred = np.zeros(X.shape[0])\n",
        "        ###########################################################################\n",
        "        # TODO:                                                                   #\n",
        "        # Implement this method. Store the predicted labels in y_pred.            #\n",
        "        ###########################################################################\n",
        "        # *****START OF YOUR CODE (DO NOT DELETE/MODIFY THIS LINE)*****\n",
        "\n",
        "        y_pred = np.argmax(X@self.W,1)\n",
        "\n",
        "        # *****END OF YOUR CODE (DO NOT DELETE/MODIFY THIS LINE)*****\n",
        "        return y_pred\n",
        "\n",
        "def loss(self, X_batch, y_batch, reg):\n",
        "    return softmax_loss_vectorized(self.W, X_batch, y_batch, reg)\n",
        "\n",
        "setattr(Softmax,\"train\",train)\n",
        "setattr(Softmax,\"predict\",predict)\n",
        "setattr(Softmax,\"loss\",loss)\n",
        "\n",
        "results = {}\n",
        "best_val = -1\n",
        "best_softmax = None\n",
        "\n",
        "################################################################################\n",
        "# TODO:                                                                        #\n",
        "# Use the validation set to set the learning rate and regularization strength. #\n",
        "# This should be identical to the validation that you did for the SVM; save    #\n",
        "# the best trained softmax classifer in best_softmax.                          #\n",
        "################################################################################\n",
        "\n",
        "# Provided as a reference. You may or may not want to change these hyperparameters\n",
        "learning_rates = np.logspace(-8, -6, 10)\n",
        "regularization_strengths = np.logspace(3,5, 10)\n",
        "\n",
        "# *****START OF YOUR CODE (DO NOT DELETE/MODIFY THIS LINE)*****\n",
        "\n",
        "num_iters = 3\n",
        "for lr in learning_rates:\n",
        "    for rs in regularization_strengths:\n",
        "        train_acc = []\n",
        "        val_acc = []\n",
        "        for i in range(num_iters):\n",
        "            cls = Softmax()\n",
        "            cls.train(X_train, y_train, lr, rs)\n",
        "            train_preds = cls.predict(X_train)\n",
        "            val_preds = cls.predict(X_val)\n",
        "            train_acc.append(np.mean(y_train == train_preds))\n",
        "            val_acc.append(np.mean(y_val == val_preds))\n",
        "        train_acc = np.mean(train_acc)\n",
        "        val_acc = np.mean(val_acc)\n",
        "        results[(lr,rs)] = (train_acc,val_acc)\n",
        "    if val_acc > best_val:\n",
        "        best_val = val_acc\n",
        "        best_softmax = cls\n",
        "pass\n",
        "\n",
        "# *****END OF YOUR CODE (DO NOT DELETE/MODIFY THIS LINE)*****\n",
        "    \n",
        "# Print out results.\n",
        "for lr, reg in sorted(results):\n",
        "    train_accuracy, val_accuracy = results[(lr, reg)]\n",
        "    print('lr %e reg %e train accuracy: %f val accuracy: %f' % (\n",
        "                lr, reg, train_accuracy, val_accuracy))\n",
        "    \n",
        "print('best validation accuracy achieved during cross-validation: %f' % best_val)"
      ],
      "execution_count": 158,
      "outputs": [
        {
          "output_type": "stream",
          "text": [
            "lr 1.000000e-08 reg 1.000000e+03 train accuracy: 0.104177 val accuracy: 0.105667\n",
            "lr 1.000000e-08 reg 1.668101e+03 train accuracy: 0.110211 val accuracy: 0.114000\n",
            "lr 1.000000e-08 reg 2.782559e+03 train accuracy: 0.101415 val accuracy: 0.102333\n",
            "lr 1.000000e-08 reg 4.641589e+03 train accuracy: 0.107524 val accuracy: 0.116667\n",
            "lr 1.000000e-08 reg 7.742637e+03 train accuracy: 0.091388 val accuracy: 0.095333\n",
            "lr 1.000000e-08 reg 1.291550e+04 train accuracy: 0.117197 val accuracy: 0.112000\n",
            "lr 1.000000e-08 reg 2.154435e+04 train accuracy: 0.100810 val accuracy: 0.095333\n",
            "lr 1.000000e-08 reg 3.593814e+04 train accuracy: 0.110395 val accuracy: 0.105333\n",
            "lr 1.000000e-08 reg 5.994843e+04 train accuracy: 0.097796 val accuracy: 0.106667\n",
            "lr 1.000000e-08 reg 1.000000e+05 train accuracy: 0.108265 val accuracy: 0.113333\n",
            "lr 1.668101e-08 reg 1.000000e+03 train accuracy: 0.096986 val accuracy: 0.098000\n",
            "lr 1.668101e-08 reg 1.668101e+03 train accuracy: 0.092109 val accuracy: 0.089000\n",
            "lr 1.668101e-08 reg 2.782559e+03 train accuracy: 0.113517 val accuracy: 0.112667\n",
            "lr 1.668101e-08 reg 4.641589e+03 train accuracy: 0.113544 val accuracy: 0.111000\n",
            "lr 1.668101e-08 reg 7.742637e+03 train accuracy: 0.097741 val accuracy: 0.099000\n",
            "lr 1.668101e-08 reg 1.291550e+04 train accuracy: 0.106898 val accuracy: 0.102000\n",
            "lr 1.668101e-08 reg 2.154435e+04 train accuracy: 0.108204 val accuracy: 0.109000\n",
            "lr 1.668101e-08 reg 3.593814e+04 train accuracy: 0.101755 val accuracy: 0.107667\n",
            "lr 1.668101e-08 reg 5.994843e+04 train accuracy: 0.105558 val accuracy: 0.110333\n",
            "lr 1.668101e-08 reg 1.000000e+05 train accuracy: 0.107925 val accuracy: 0.105000\n",
            "lr 2.782559e-08 reg 1.000000e+03 train accuracy: 0.124354 val accuracy: 0.121000\n",
            "lr 2.782559e-08 reg 1.668101e+03 train accuracy: 0.118197 val accuracy: 0.108000\n",
            "lr 2.782559e-08 reg 2.782559e+03 train accuracy: 0.112027 val accuracy: 0.119333\n",
            "lr 2.782559e-08 reg 4.641589e+03 train accuracy: 0.105810 val accuracy: 0.098667\n",
            "lr 2.782559e-08 reg 7.742637e+03 train accuracy: 0.117088 val accuracy: 0.114667\n",
            "lr 2.782559e-08 reg 1.291550e+04 train accuracy: 0.121993 val accuracy: 0.126000\n",
            "lr 2.782559e-08 reg 2.154435e+04 train accuracy: 0.093395 val accuracy: 0.095000\n",
            "lr 2.782559e-08 reg 3.593814e+04 train accuracy: 0.109415 val accuracy: 0.114333\n",
            "lr 2.782559e-08 reg 5.994843e+04 train accuracy: 0.106340 val accuracy: 0.106333\n",
            "lr 2.782559e-08 reg 1.000000e+05 train accuracy: 0.103578 val accuracy: 0.106000\n",
            "lr 4.641589e-08 reg 1.000000e+03 train accuracy: 0.116007 val accuracy: 0.115333\n",
            "lr 4.641589e-08 reg 1.668101e+03 train accuracy: 0.116993 val accuracy: 0.118667\n",
            "lr 4.641589e-08 reg 2.782559e+03 train accuracy: 0.101844 val accuracy: 0.099000\n",
            "lr 4.641589e-08 reg 4.641589e+03 train accuracy: 0.121259 val accuracy: 0.112000\n",
            "lr 4.641589e-08 reg 7.742637e+03 train accuracy: 0.120701 val accuracy: 0.119667\n",
            "lr 4.641589e-08 reg 1.291550e+04 train accuracy: 0.129354 val accuracy: 0.128667\n",
            "lr 4.641589e-08 reg 2.154435e+04 train accuracy: 0.133102 val accuracy: 0.129667\n",
            "lr 4.641589e-08 reg 3.593814e+04 train accuracy: 0.112707 val accuracy: 0.114333\n",
            "lr 4.641589e-08 reg 5.994843e+04 train accuracy: 0.143320 val accuracy: 0.127667\n",
            "lr 4.641589e-08 reg 1.000000e+05 train accuracy: 0.131367 val accuracy: 0.132000\n",
            "lr 7.742637e-08 reg 1.000000e+03 train accuracy: 0.146551 val accuracy: 0.157000\n",
            "lr 7.742637e-08 reg 1.668101e+03 train accuracy: 0.140537 val accuracy: 0.133333\n",
            "lr 7.742637e-08 reg 2.782559e+03 train accuracy: 0.130980 val accuracy: 0.129333\n",
            "lr 7.742637e-08 reg 4.641589e+03 train accuracy: 0.132755 val accuracy: 0.139333\n",
            "lr 7.742637e-08 reg 7.742637e+03 train accuracy: 0.115517 val accuracy: 0.108667\n",
            "lr 7.742637e-08 reg 1.291550e+04 train accuracy: 0.140939 val accuracy: 0.141000\n",
            "lr 7.742637e-08 reg 2.154435e+04 train accuracy: 0.130395 val accuracy: 0.123333\n",
            "lr 7.742637e-08 reg 3.593814e+04 train accuracy: 0.136810 val accuracy: 0.129333\n",
            "lr 7.742637e-08 reg 5.994843e+04 train accuracy: 0.141694 val accuracy: 0.140333\n",
            "lr 7.742637e-08 reg 1.000000e+05 train accuracy: 0.172320 val accuracy: 0.176667\n",
            "lr 1.291550e-07 reg 1.000000e+03 train accuracy: 0.153721 val accuracy: 0.148333\n",
            "lr 1.291550e-07 reg 1.668101e+03 train accuracy: 0.147905 val accuracy: 0.142667\n",
            "lr 1.291550e-07 reg 2.782559e+03 train accuracy: 0.145612 val accuracy: 0.140667\n",
            "lr 1.291550e-07 reg 4.641589e+03 train accuracy: 0.154435 val accuracy: 0.144667\n",
            "lr 1.291550e-07 reg 7.742637e+03 train accuracy: 0.154177 val accuracy: 0.166667\n",
            "lr 1.291550e-07 reg 1.291550e+04 train accuracy: 0.152830 val accuracy: 0.150333\n",
            "lr 1.291550e-07 reg 2.154435e+04 train accuracy: 0.156395 val accuracy: 0.160000\n",
            "lr 1.291550e-07 reg 3.593814e+04 train accuracy: 0.178660 val accuracy: 0.184333\n",
            "lr 1.291550e-07 reg 5.994843e+04 train accuracy: 0.199517 val accuracy: 0.205667\n",
            "lr 1.291550e-07 reg 1.000000e+05 train accuracy: 0.248116 val accuracy: 0.247000\n",
            "lr 2.154435e-07 reg 1.000000e+03 train accuracy: 0.167605 val accuracy: 0.173667\n",
            "lr 2.154435e-07 reg 1.668101e+03 train accuracy: 0.172082 val accuracy: 0.175333\n",
            "lr 2.154435e-07 reg 2.782559e+03 train accuracy: 0.170714 val accuracy: 0.179000\n",
            "lr 2.154435e-07 reg 4.641589e+03 train accuracy: 0.165680 val accuracy: 0.171667\n",
            "lr 2.154435e-07 reg 7.742637e+03 train accuracy: 0.174374 val accuracy: 0.175667\n",
            "lr 2.154435e-07 reg 1.291550e+04 train accuracy: 0.181279 val accuracy: 0.179333\n",
            "lr 2.154435e-07 reg 2.154435e+04 train accuracy: 0.200558 val accuracy: 0.201000\n",
            "lr 2.154435e-07 reg 3.593814e+04 train accuracy: 0.232435 val accuracy: 0.242000\n",
            "lr 2.154435e-07 reg 5.994843e+04 train accuracy: 0.276109 val accuracy: 0.297667\n",
            "lr 2.154435e-07 reg 1.000000e+05 train accuracy: 0.281449 val accuracy: 0.294333\n",
            "lr 3.593814e-07 reg 1.000000e+03 train accuracy: 0.181701 val accuracy: 0.177000\n",
            "lr 3.593814e-07 reg 1.668101e+03 train accuracy: 0.182272 val accuracy: 0.181667\n",
            "lr 3.593814e-07 reg 2.782559e+03 train accuracy: 0.195163 val accuracy: 0.192000\n",
            "lr 3.593814e-07 reg 4.641589e+03 train accuracy: 0.199551 val accuracy: 0.213000\n",
            "lr 3.593814e-07 reg 7.742637e+03 train accuracy: 0.205837 val accuracy: 0.210667\n",
            "lr 3.593814e-07 reg 1.291550e+04 train accuracy: 0.231531 val accuracy: 0.247333\n",
            "lr 3.593814e-07 reg 2.154435e+04 train accuracy: 0.257993 val accuracy: 0.268333\n",
            "lr 3.593814e-07 reg 3.593814e+04 train accuracy: 0.296667 val accuracy: 0.314000\n",
            "lr 3.593814e-07 reg 5.994843e+04 train accuracy: 0.298680 val accuracy: 0.311000\n",
            "lr 3.593814e-07 reg 1.000000e+05 train accuracy: 0.273884 val accuracy: 0.287333\n",
            "lr 5.994843e-07 reg 1.000000e+03 train accuracy: 0.214721 val accuracy: 0.215000\n",
            "lr 5.994843e-07 reg 1.668101e+03 train accuracy: 0.219020 val accuracy: 0.235333\n",
            "lr 5.994843e-07 reg 2.782559e+03 train accuracy: 0.221619 val accuracy: 0.232333\n",
            "lr 5.994843e-07 reg 4.641589e+03 train accuracy: 0.237000 val accuracy: 0.251667\n",
            "lr 5.994843e-07 reg 7.742637e+03 train accuracy: 0.257850 val accuracy: 0.258333\n",
            "lr 5.994843e-07 reg 1.291550e+04 train accuracy: 0.290884 val accuracy: 0.295000\n",
            "lr 5.994843e-07 reg 2.154435e+04 train accuracy: 0.316068 val accuracy: 0.328000\n",
            "lr 5.994843e-07 reg 3.593814e+04 train accuracy: 0.316259 val accuracy: 0.328333\n",
            "lr 5.994843e-07 reg 5.994843e+04 train accuracy: 0.293755 val accuracy: 0.298667\n",
            "lr 5.994843e-07 reg 1.000000e+05 train accuracy: 0.280701 val accuracy: 0.292667\n",
            "lr 1.000000e-06 reg 1.000000e+03 train accuracy: 0.238293 val accuracy: 0.244333\n",
            "lr 1.000000e-06 reg 1.668101e+03 train accuracy: 0.241449 val accuracy: 0.238000\n",
            "lr 1.000000e-06 reg 2.782559e+03 train accuracy: 0.258612 val accuracy: 0.263667\n",
            "lr 1.000000e-06 reg 4.641589e+03 train accuracy: 0.275878 val accuracy: 0.285667\n",
            "lr 1.000000e-06 reg 7.742637e+03 train accuracy: 0.312810 val accuracy: 0.322333\n",
            "lr 1.000000e-06 reg 1.291550e+04 train accuracy: 0.330483 val accuracy: 0.344667\n",
            "lr 1.000000e-06 reg 2.154435e+04 train accuracy: 0.326646 val accuracy: 0.345000\n",
            "lr 1.000000e-06 reg 3.593814e+04 train accuracy: 0.304857 val accuracy: 0.318000\n",
            "lr 1.000000e-06 reg 5.994843e+04 train accuracy: 0.288177 val accuracy: 0.303333\n",
            "lr 1.000000e-06 reg 1.000000e+05 train accuracy: 0.271694 val accuracy: 0.292000\n",
            "best validation accuracy achieved during cross-validation: 0.294333\n"
          ],
          "name": "stdout"
        }
      ]
    },
    {
      "cell_type": "code",
      "metadata": {
        "id": "test",
        "colab_type": "code",
        "colab": {
          "base_uri": "https://localhost:8080/",
          "height": 34
        },
        "outputId": "9c946686-d7a0-41b8-abc5-3927b5207dfe"
      },
      "source": [
        "# evaluate on test set\n",
        "# Evaluate the best softmax on test set\n",
        "y_test_pred = best_softmax.predict(X_test)\n",
        "test_accuracy = np.mean(y_test == y_test_pred)\n",
        "print('softmax on raw pixels final test set accuracy: %f' % (test_accuracy, ))"
      ],
      "execution_count": 159,
      "outputs": [
        {
          "output_type": "stream",
          "text": [
            "softmax on raw pixels final test set accuracy: 0.308000\n"
          ],
          "name": "stdout"
        }
      ]
    },
    {
      "cell_type": "markdown",
      "metadata": {
        "tags": [
          "pdf-inline"
        ],
        "id": "FwoJQCXOvbAr",
        "colab_type": "text"
      },
      "source": [
        "**Inline Question 2** - *True or False*\n",
        "\n",
        "Suppose the overall training loss is defined as the sum of the per-datapoint loss over all training examples. It is possible to add a new datapoint to a training set that would leave the SVM loss unchanged, but this is not the case with the Softmax classifier loss.\n",
        "\n",
        "$\\color{blue}{\\textit Your Answer:}$ True.\n",
        "\n",
        "\n",
        "$\\color{blue}{\\textit Your Explanation:}$ SVMs assign a loss of zero to datapoints that are correctly classified outside of their margin, as evidenced by the max(x,0) in the loss function, and such datapoints would indeed leave the overall loss intact. However, softmax cross-entropy loss is strictly positive, so the addition of a datapoint will always change the overall loss.\n",
        "\n"
      ]
    },
    {
      "cell_type": "code",
      "metadata": {
        "id": "_siUMHY2vbAr",
        "colab_type": "code",
        "colab": {
          "base_uri": "https://localhost:8080/",
          "height": 380
        },
        "outputId": "0c5e153c-eb8b-4217-ffc8-5ba67215f61e"
      },
      "source": [
        "# Visualize the learned weights for each class\n",
        "w = best_softmax.W[:-1,:] # strip out the bias\n",
        "w = w.reshape(32, 32, 3, 10)\n",
        "\n",
        "w_min, w_max = np.min(w), np.max(w)\n",
        "\n",
        "classes = ['plane', 'car', 'bird', 'cat', 'deer', 'dog', 'frog', 'horse', 'ship', 'truck']\n",
        "for i in range(10):\n",
        "    plt.subplot(2, 5, i + 1)\n",
        "    \n",
        "    # Rescale the weights to be between 0 and 255\n",
        "    wimg = 255.0 * (w[:, :, :, i].squeeze() - w_min) / (w_max - w_min)\n",
        "    plt.imshow(wimg.astype('uint8'))\n",
        "    plt.axis('off')\n",
        "    plt.title(classes[i])"
      ],
      "execution_count": 160,
      "outputs": [
        {
          "output_type": "display_data",
          "data": {
            "image/png": "[encoded data removed]",
            "text/plain": [
              "<Figure size 720x576 with 10 Axes>"
            ]
          },
          "metadata": {
            "tags": [],
            "needs_background": "light"
          }
        }
      ]
    },
    {
      "cell_type": "markdown",
      "metadata": {
        "id": "Zma8ALuPvbAw",
        "colab_type": "text"
      },
      "source": [
        "---\n",
        "# IMPORTANT\n",
        "\n",
        "This is the end of this question. Please do the following:\n",
        "\n",
        "1. Click `File -> Save` to make sure the latest checkpoint of this notebook is saved to your Drive.\n",
        "2. Execute the cell below to download the modified `.py` files back to your drive."
      ]
    },
    {
      "cell_type": "code",
      "metadata": {
        "id": "saZ40UZnvbAx",
        "colab_type": "code",
        "colab": {}
      },
      "source": [
        "import os\n",
        "\n",
        "FOLDER_TO_SAVE = os.path.join('drive/My Drive/', FOLDERNAME)\n",
        "FILES_TO_SAVE = ['cs231n/classifiers/softmax.py']\n",
        "\n",
        "for files in FILES_TO_SAVE:\n",
        "  with open(os.path.join(FOLDER_TO_SAVE, '/'.join(files.split('/')[1:])), 'w') as f:\n",
        "    f.write(''.join(open(files).readlines()))"
      ],
      "execution_count": null,
      "outputs": []
    }
  ]
}