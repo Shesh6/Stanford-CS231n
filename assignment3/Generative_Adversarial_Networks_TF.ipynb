{
 "cells": [
  {
   "cell_type": "code",
   "execution_count": null,
   "metadata": {},
   "outputs": [],
   "source": [
    "# this mounts your Google Drive to the Colab VM.\n",
    "from google.colab import drive\n",
    "drive.mount('/content/drive', force_remount=True)\n",
    "\n",
    "# enter the foldername in your Drive where you have saved the unzipped\n",
    "# assignment folder, e.g. 'cs231n/assignments/assignment3/'\n",
    "FOLDERNAME = None\n",
    "assert FOLDERNAME is not None, \"[!] Enter the foldername.\"\n",
    "\n",
    "# now that we've mounted your Drive, this ensures that\n",
    "# the Python interpreter of the Colab VM can load\n",
    "# python files from within it.\n",
    "import sys\n",
    "sys.path.append('/content/drive/My Drive/{}'.format(FOLDERNAME))\n",
    "\n",
    "# this downloads the CIFAR-10 dataset to your Drive\n",
    "# if it doesn't already exist.\n",
    "%cd drive/My\\ Drive/$FOLDERNAME/cs231n/datasets/\n",
    "!bash get_datasets.sh\n",
    "%cd /content"
   ]
  },
  {
   "cell_type": "markdown",
   "metadata": {
    "tags": [
     "pdf-title"
    ]
   },
   "source": [
    "# Generative Adversarial Networks (GANs)\n",
    "So far in CS231N, all the applications of neural networks that we have explored have been **discriminative models** that take an input and are trained to produce a labeled output. This has ranged from straightforward classification of image categories to sentence generation (which was still phrased as a classification problem, our labels were in vocabulary space and we’d learned a recurrence to capture multi-word labels). In this notebook, we will expand our repetoire, and build **generative models** using neural networks. Specifically, we will learn how to build models which generate novel images that resemble a set of training images."
   ]
  },
  {
   "cell_type": "markdown",
   "metadata": {
    "tags": [
     "pdf-ignore"
    ]
   },
   "source": [
    "### What is a GAN?\n",
    "\n",
    "In 2014, [Goodfellow et al.](https://arxiv.org/abs/1406.2661) presented a method for training generative models called Generative Adversarial Networks (GANs for short). In a GAN, we build two different neural networks. Our first network is a traditional classification network, called the **discriminator**. We will train the discriminator to take images, and classify them as being real (belonging to the training set) or fake (not present in the training set). Our other network, called the **generator**, will take random noise as input and transform it using a neural network to produce images. The goal of the generator is to fool the discriminator into thinking the images it produced are real.\n",
    "\n",
    "We can think of this back and forth process of the generator ($G$) trying to fool the discriminator ($D$), and the discriminator trying to correctly classify real vs. fake as a minimax game:\n",
    "$$\\underset{G}{\\text{minimize}}\\; \\underset{D}{\\text{maximize}}\\; \\mathbb{E}_{x \\sim p_\\text{data}}\\left[\\log D(x)\\right] + \\mathbb{E}_{z \\sim p(z)}\\left[\\log \\left(1-D(G(z))\\right)\\right]$$\n",
    "where $x \\sim p_\\text{data}$ are samples from the input data, $z \\sim p(z)$ are the random noise samples, $G(z)$ are the generated images using the neural network generator $G$, and $D$ is the output of the discriminator, specifying the probability of an input being real. In [Goodfellow et al.](https://arxiv.org/abs/1406.2661), they analyze this minimax game and show how it relates to minimizing the Jensen-Shannon divergence between the training data distribution and the generated samples from $G$.\n",
    "\n",
    "To optimize this minimax game, we will aternate between taking gradient *descent* steps on the objective for $G$, and gradient *ascent* steps on the objective for $D$:\n",
    "1. update the **generator** ($G$) to minimize the probability of the __discriminator making the correct choice__. \n",
    "2. update the **discriminator** ($D$) to maximize the probability of the __discriminator making the correct choice__.\n",
    "\n",
    "While these updates are useful for analysis, they do not perform well in practice. Instead, we will use a different objective when we update the generator: maximize the probability of the **discriminator making the incorrect choice**. This small change helps to allevaiate problems with the generator gradient vanishing when the discriminator is confident. This is the standard update used in most GAN papers, and was used in the original paper from [Goodfellow et al.](https://arxiv.org/abs/1406.2661). \n",
    "\n",
    "In this assignment, we will alternate the following updates:\n",
    "1. Update the generator ($G$) to maximize the probability of the discriminator making the incorrect choice on generated data:\n",
    "$$\\underset{G}{\\text{maximize}}\\;  \\mathbb{E}_{z \\sim p(z)}\\left[\\log D(G(z))\\right]$$\n",
    "2. Update the discriminator ($D$), to maximize the probability of the discriminator making the correct choice on real and generated data:\n",
    "$$\\underset{D}{\\text{maximize}}\\; \\mathbb{E}_{x \\sim p_\\text{data}}\\left[\\log D(x)\\right] + \\mathbb{E}_{z \\sim p(z)}\\left[\\log \\left(1-D(G(z))\\right)\\right]$$\n",
    "\n",
    "### What else is there?\n",
    "Since 2014, GANs have exploded into a huge research area, with massive [workshops](https://sites.google.com/site/nips2016adversarial/), and [hundreds of new papers](https://github.com/hindupuravinash/the-gan-zoo). Compared to other approaches for generative models, they often produce the highest quality samples but are some of the most difficult and finicky models to train (see [this github repo](https://github.com/soumith/ganhacks) that contains a set of 17 hacks that are useful for getting models working). Improving the stabiilty and robustness of GAN training is an open research question, with new papers coming out every day! For a more recent tutorial on GANs, see [here](https://arxiv.org/abs/1701.00160). There is also some even more recent exciting work that changes the objective function to Wasserstein distance and yields much more stable results across model architectures: [WGAN](https://arxiv.org/abs/1701.07875), [WGAN-GP](https://arxiv.org/abs/1704.00028).\n",
    "\n",
    "\n",
    "GANs are not the only way to train a generative model! For other approaches to generative modeling check out the [deep generative model chapter](http://www.deeplearningbook.org/contents/generative_models.html) of the Deep Learning [book](http://www.deeplearningbook.org). Another popular way of training neural networks as generative models is Variational Autoencoders (co-discovered [here](https://arxiv.org/abs/1312.6114) and [here](https://arxiv.org/abs/1401.4082)). Variational autoencoders combine neural networks with variational inference to train deep generative models. These models tend to be far more stable and easier to train but currently don't produce samples that are as pretty as GANs.\n",
    "\n",
    "Example pictures of what you should expect (yours might look slightly different):\n",
    "\n",
    "![caption](gan_outputs_tf.png)\n"
   ]
  },
  {
   "cell_type": "markdown",
   "metadata": {},
   "source": [
    "## Setup"
   ]
  },
  {
   "cell_type": "code",
   "execution_count": 1,
   "metadata": {
    "tags": [
     "pdf-ignore"
    ]
   },
   "outputs": [],
   "source": [
    "import tensorflow as tf\n",
    "import numpy as np\n",
    "import os\n",
    "\n",
    "import matplotlib.pyplot as plt\n",
    "import matplotlib.gridspec as gridspec\n",
    "\n",
    "%matplotlib inline\n",
    "plt.rcParams['figure.figsize'] = (10.0, 8.0) # set default size of plots\n",
    "plt.rcParams['image.interpolation'] = 'nearest'\n",
    "plt.rcParams['image.cmap'] = 'gray'\n",
    "\n",
    "# for auto-reloading external modules\n",
    "# see http://stackoverflow.com/questions/1907993/autoreload-of-modules-in-ipython\n",
    "%load_ext autoreload\n",
    "%autoreload 2\n",
    "\n",
    "# A bunch of utility functions\n",
    "\n",
    "def show_images(images):\n",
    "    images = np.reshape(images, [images.shape[0], -1])  # images reshape to (batch_size, D)\n",
    "    sqrtn = int(np.ceil(np.sqrt(images.shape[0])))\n",
    "    sqrtimg = int(np.ceil(np.sqrt(images.shape[1])))\n",
    "\n",
    "    fig = plt.figure(figsize=(sqrtn, sqrtn))\n",
    "    gs = gridspec.GridSpec(sqrtn, sqrtn)\n",
    "    gs.update(wspace=0.05, hspace=0.05)\n",
    "\n",
    "    for i, img in enumerate(images):\n",
    "        ax = plt.subplot(gs[i])\n",
    "        plt.axis('off')\n",
    "        ax.set_xticklabels([])\n",
    "        ax.set_yticklabels([])\n",
    "        ax.set_aspect('equal')\n",
    "        plt.imshow(img.reshape([sqrtimg,sqrtimg]))\n",
    "    return\n",
    "\n",
    "from cs231n.gan_tf import preprocess_img, deprocess_img, rel_error, count_params, MNIST\n",
    "\n",
    "\n",
    "\n",
    "NOISE_DIM = 96"
   ]
  },
  {
   "cell_type": "code",
   "execution_count": null,
   "metadata": {},
   "outputs": [],
   "source": [
    "# Colab users only\n",
    "%cd drive/My\\ Drive/$FOLDERNAME/\n",
    "%cp -r gan-checks-tf.npz /content/\n",
    "%cd /content/"
   ]
  },
  {
   "cell_type": "code",
   "execution_count": 2,
   "metadata": {},
   "outputs": [],
   "source": [
    "answers = np.load('gan-checks-tf.npz')"
   ]
  },
  {
   "cell_type": "markdown",
   "metadata": {
    "tags": [
     "pdf-ignore"
    ]
   },
   "source": [
    "## Dataset\n",
    " GANs are notoriously finicky with hyperparameters, and also require many training epochs. In order to make this assignment approachable without a GPU, we will be working on the MNIST dataset, which is 60,000 training and 10,000 test images. Each picture contains a centered image of white digit on black background (0 through 9). This was one of the first datasets used to train convolutional neural networks and it is fairly easy -- a standard CNN model can easily exceed 99% accuracy. \n",
    " \n",
    "\n",
    "**Heads-up**: Our MNIST wrapper returns images as vectors. That is, they're size (batch, 784). If you want to treat them as images, we have to resize them to (batch,28,28) or (batch,28,28,1). They are also type np.float32 and bounded [0,1]. "
   ]
  },
  {
   "cell_type": "code",
   "execution_count": 3,
   "metadata": {},
   "outputs": [
    {
     "output_type": "display_data",
     "data": {
      "text/plain": "&lt;Figure size 288x288 with 16 Axes&gt;",
      "image/svg+xml": "<?xml version=\"1.0\" encoding=\"utf-8\" standalone=\"no\"?>\r\n<!DOCTYPE svg PUBLIC \"-//W3C//DTD SVG 1.1//EN\"\r\n  \"http://www.w3.org/Graphics/SVG/1.1/DTD/svg11.dtd\">\r\n<!-- Created with matplotlib (https://matplotlib.org/) -->\r\n<svg height=\"231.84pt\" version=\"1.1\" viewBox=\"0 0 236.212048 231.84\" width=\"236.212048pt\" xmlns=\"http://www.w3.org/2000/svg\" xmlns:xlink=\"http://www.w3.org/1999/xlink\">\r\n <defs>\r\n  <style type=\"text/css\">\r\n*{stroke-linecap:butt;stroke-linejoin:round;}\r\n  </style>\r\n </defs>\r\n <g id=\"figure_1\">\r\n  <g id=\"patch_1\">\r\n   <path d=\"M 0 231.84 \r\nL 236.212048 231.84 \r\nL 236.212048 0 \r\nL 0 0 \r\nz\r\n\" style=\"fill:none;\"/>\r\n  </g>\r\n  <g id=\"axes_1\">\r\n   <g clip-path=\"url(#pb9964b8fb3)\">\r\n    <image height=\"53\" id=\"image404b8934ff\" transform=\"scale(1 -1)translate(0 -53)\" width=\"53\" x=\"7.2\" xlink:href=\"data:image/png;base64,\r\niVBORw0KGgoAAAANSUhEUgAAADUAAAA1CAYAAADh5qNwAAAABHNCSVQICAgIfAhkiAAAAzVJREFUaIHt2c1LlG0Ux/FPj+GixEIXJoGELpSUEKwGJBIRCkTBMV24cOtKbCWzEtwYgtRCdCHu+g+UNolQtghC8aVFILgSwWUDvqE4zrPwGad5fBl1nMJpvnAvbq63c/hd97nOde4biMow/vnTBqSDrFPXhaxT14WbyToMDg7q7e09se3Hjx/gw4cPYH9/H7x9+xaEw+ErMfKiZKRSNyQ5pwKBwJFST58+Bffv3z9z0u3tbTA8PAzevHlja2srVVvPTVKnfqWgoACMjY2B6upqUFpaeua4r1+/Hm3Jjx8/gp2dnQsbe17+zu13FkVFReDhw4dgZGQEVFRUnDrm27dvYGhoCExMTICDg4PLmnGMrFLJuHfvHujo6ADd3d3gwYMHp46Zm5sDAwMDYHJyMmU7skpdlPLychwq1trairia/ycSiYDp6WnQ2Nh46XWzSqXCo0ePQFtbG3jy5Al48eJFQr/v37+DmpoaXC4qZpVKB7u7u+DmzcPcOpYUv3z5Enz+/PnCc2akUkmvHlfN3bt3QXNzM8jJyUlo//LlCy6nUIysUqlQVVUF3r17BxoaGhLaY5l/LLNIhYxUisPol9YnGAxGw+FwNBwORyORSMITCoWioVAoWlxcHC0uLr6S9TJSqbSeU2VlZWB+fv6oCPPp0yfEs/PR0VEQjV6dGWkJFLdv3wbj4+MgLy9Pe3s7mJqaSseSCWTk9kuLUv39/aCurg7MzMwcXSl+B1mlTiM/Px9sbGyAO3fuJLSPj49faWElGRmpVEohvaWlBTQ1NYGFhQXEK7MxFhcXPX/+HI4qtZWVleD169egq6vrsmYcI6tUjFj5OVaYTFZ2/rVv7BCur68He3t7OP4dpkJGKnWp6FdSUgIKCwvPPSYQCJxswH/X+M7OTrC5uZnQvr6+Dn7+/AmWl5eTrpWRSqUU/WKK5ebmgtraWvDs2TPEr+6vXr1KOtfa2hqYnZ0FwWAQ8Wi5tLQE+vr6kl71M1KplDKK1dXVhPeVlRXw/v17xIsqJ0W22M+DW7duIV6i7unpQTwqxn42PH78GIf55F+p1B8vZqaDjFQq69R1IevUdSHr1HUhI536F/AzKj6k96B7AAAAAElFTkSuQmCC\" y=\"-6.595181\"/>\r\n   </g>\r\n  </g>\r\n  <g id=\"axes_2\">\r\n   <g clip-path=\"url(#pde63b29618)\">\r\n    <image height=\"53\" id=\"image00cd2e5212\" transform=\"scale(1 -1)translate(0 -53)\" width=\"53\" x=\"63.672289\" xlink:href=\"data:image/png;base64,\r\niVBORw0KGgoAAAANSUhEUgAAADUAAAA1CAYAAADh5qNwAAAABHNCSVQICAgIfAhkiAAAA3FJREFUaIHt2T9Ill0Yx/GPL2FIUEOT4aCDaxmSRpiCo7hFpYKNuVRiViBok6Og4iCCOIRQWoEiKhIUgX8asqDZSSuLaKhE0EjfQY43WuLzx7cXH+7vcg/nPudc1/O7rz/nPFnYlGH8838b8F8QO3VYiJ06LMROHRaOpDIpNzcXNDQ0gNbWVpCVlQU2N7dKX3d3N+jt7bWwsJCepUmQJYnim5eXBx4/fgzOnTu3c7FdTgW+fv3q0aNHoLGxMWVjEyUjP7+klLp8+TJ4+PDhH8c/f/4Mvn//DgoLC397Z25uDrx48QLcv38/cWsTJCOVSilRBH79+gX6+vrAwMAAtmIIzp8/D+rr6505cwZcuHABUXwGNUNSefXqVTomIVYqym7h+enTJ3Dr1q0/vr+0tIQoW0JTUxNoa2sDV65cAT9//kSs1J4kpVSoP+E5MjKS9IadnZ2Ist/du3dBXV0dOHbsGLh06VLSawcyUqm06lSImYKCgpQNOHr0KKJWq6WlBXz48AFcv34dTE1NJbxmRiqVVp0Kv3JocJeXl5NeY21tDbS3t28ZdGTLpHv37oHm5mYwMzMDVlZW9l0zI5VKKqaqq6vB8PAwyM7OBnfu3AFdXV0HZljoVkKm7e3tBTdv3tx3bqxUYHZ2FpSWloKXL1+CysrKAzMsKLSxsbFjz4sXL+47NyOVSin73b59G0xPT4Py8nJQUVGBSLl0CArtPkUnQkpOvX37FkxMTICqqiowOjoKrl69Cl6/fg1ycnK8f/8+la1SIv78AqFghlT+48cPUFNTAx48eICoGLe3t3vy5Elahi4uLib8bkYqlVJK301RURF4/vw5OH78+I7xyclJtbW1iJLJ6dOnQX9/P/jy5cuOOaH4rq6u7pj35s2bfe2JldqP4uJi8OzZM3DixIntsZDmx8bGQEdHB/j48SOiFiw/Px/RAXRoaAhRvCZCRiqV1tFjN/Pz82B8fBy244jfC3QoquHYcvbsWWxdp5Fe8Y2VSpTwb0i45BwcHNy+vNxNyGbh8BeUDLx79y7p/TNSqQPNfntRUlLi6dOn4NSpU4hiJXQj6+vr4OTJk6CsrAyRkmE8EWKl0mG/riPw7ds3RIqlQqzUQRC6jhs3boBr164h6ux7enqQWI+3F3/dqb9BRn5+sVOHhdipw0Ls1GHhXwpoOAf5GK22AAAAAElFTkSuQmCC\" y=\"-6.595181\"/>\r\n   </g>\r\n  </g>\r\n  <g id=\"axes_3\">\r\n   <g clip-path=\"url(#pdf19032e27)\">\r\n    <image height=\"53\" id=\"image2371eba8b1\" transform=\"scale(1 -1)translate(0 -53)\" width=\"53\" x=\"120.144578\" xlink:href=\"data:image/png;base64,\r\niVBORw0KGgoAAAANSUhEUgAAADUAAAA1CAYAAADh5qNwAAAABHNCSVQICAgIfAhkiAAAApJJREFUaIHt2b8vs10cx/FX5Y4fA4lVjYhEwiAGZhJGM4OIICaDxOTfEInEwMZi0U2CBWHwI/Fr0ASJdBEMLMIz9Gn7eHDfbSl32+u9tFd7+rnO53yu8+25zhXCiwKj5Kc7kAsCU/lCYCpf+PXTHRgYGABzc3NgdnYWjIyMZK0ZJJULenp6QCgU+jLNHzeV4OXl69YAweX3HWxubn5aI0gqlyQKxfPz86e1gqRySaL6nZ2dfVqrIJMKTOULf82cStDb2wu2tray1ijIpEL+sPEyOTmpo6MjLbHl5WVwfHyM9EZ7eHgYzMzMgPPzc1BXV5fWOd+juJKanp5G/Gbt9vYWXFxcvCvS3NwcF/t3VfD09AQeHh7A0dGR7e1tsLu7C9bX10EsFgNXV1eguroalJaWZuupMJP6sPpVVFQgPvqjo6NgaWnp3bYtLS3JttDZ2Qlqa2sRH/XBwUEwNDQEHh8fIZlgeXk5KCmJj3NjYyM4OTnJ2FRxJfVfbm5ufvv9/v7+q+O9vb03bcbGxkBVVRXo7u4G/f39oKysDKmkWltbkV1SaZlqa2sDq6urGZ/g/9zf34PFxcVXrwsLC6Cvrw9MTU2BlZUVSBardCiuy+/09DT5vqmpKecdmZiYQKrINDQ0gMrKSgRJfWwqEomIRCLJ0ptrYrGYWCwmGo2KRqPJz8PhsHA4nJFWQSb14Zw6ODhAahnzXdzd3b067urqQma3IsWVVIKv2LLKhMQy6vLyEtTX12esUZxJzc/PZzVa2XJ9fY3Uc6r29nZktsAtzqTW1tYcHh5+R1+QmsOJ/6qamhpk9qinOJPa2Nj4jn68YWdnB4yPj2f824JM6o9bZPlIQSYVmMoXAlP5QmAqXyhIU/8Ac/3GLXDuAHEAAAAASUVORK5CYII=\" y=\"-6.595181\"/>\r\n   </g>\r\n  </g>\r\n  <g id=\"axes_4\">\r\n   <g clip-path=\"url(#p32559b89a6)\">\r\n    <image height=\"53\" id=\"image7f94e85594\" transform=\"scale(1 -1)translate(0 -53)\" width=\"53\" x=\"176.616867\" xlink:href=\"data:image/png;base64,\r\niVBORw0KGgoAAAANSUhEUgAAADUAAAA1CAYAAADh5qNwAAAABHNCSVQICAgIfAhkiAAAAl5JREFUaIHt2D1LI1EUgOEn7haCgWkERcWPYGFhYSlioWhppwiWfhT+CMG1t7ewSLBRCwu7dH79CS1E7UywsFREZwtJousua5zJLhnmhdPMJffMue/MnZuTQShhtPzvG2gEaVHNQlpUs/A9yo87OzvB/v4+GB8fB1dXV2BwcDDK9F8mNfUrQ0NDYGxsLJabiYtEmkpkUZEev/v7e3B7ewu6urpAd3c32NzcBGtrax4eHqKkqotEmuL1QBsp8vl8mM/nwwrPz8/voq+vL3KOeiI19beomHl6enoXCwsLqak4iG2FyuVyWC6XP5g6OzsLs9lsmM1mU1NfJeO1ulgYGRkBBwcHoLe3tzp2eHgI5ubm4kr3R1JTn2VrawusrKx8GBseHgYXFxdxp62Smvos/f394PLy8sPYzs4OWFxcjDttlUSainRK/xPX19dgdnYWFAoFbW1tIJfLgY6ODlAqlWLPn0hT/IMv/OrqavV0UTkfFovFsFgshkEQhEEQxJrvG340ZKnecHd3Z2JiQqlUqnagBgYG5HI5j4+PRkdHnZycxJYvkY9fQ7b039He3o7axvDy8oJaS2B+fh4cHR1FzpWaioPt7W2wtLT07vrx8TGYmpqKnCM1FQeVfvvu7i5q/fgKy8vLqB2nvkJqKk6mp6fB3t4eCIIAnJ+fg5mZGdR2y3qaoampRrC+vo7X1vRbWlpe13tychKcnp5+es5EmmrIX496uLm5Qe2daW1tjTxnaqoRFAoF0NPTAzY2NlB7pzKZTN1zJtLUf9/9GkEiTaVFNQtpUc1CWlSzkMiifgKjA5saM0gNJgAAAABJRU5ErkJggg==\" y=\"-6.595181\"/>\r\n   </g>\r\n  </g>\r\n  <g id=\"axes_5\">\r\n   <g clip-path=\"url(#p61879644a7)\">\r\n    <image height=\"53\" id=\"image388238f3a0\" transform=\"scale(1 -1)translate(0 -53)\" width=\"53\" x=\"7.2\" xlink:href=\"data:image/png;base64,\r\niVBORw0KGgoAAAANSUhEUgAAADUAAAA1CAYAAADh5qNwAAAABHNCSVQICAgIfAhkiAAAAu9JREFUaIHt2b9LW10cx/FXQlEREREzdFTqUoOLgoviIjopYodEyKBu3YWCiArq5uLi5OCgCIqC6KIuKg7tP1BFiuCgi5sglUJMB59rSPsIj9HkwXDfkCEn597v+d7POd8fNxFklBjR/3sBheBdsQ1WV1eD2dlZ8PnzZ9Dc3Ay+f//+YhuhUi8hUGhtbQ10dXWBzc1NcHFx8Wq2QqVewsDAALIKHR4egqmpKXB7e/tqtkpSqYgi5amzszPQ0NAA2tvbwdevXwtiL1PoTzwezwSk0+lMOp3OxGKxTCwWK4i9ktx+RQkUHR0d7u/vQSZT+N1ekkoVxanz8/NimHmkJJUqWkhPp9PInqn379+D6+vrV7dVkkoVxamenp5imHkkVCpffv78KRqNikajIpGISCQimUxKJpMFsVeSSuVVUbS1tYGdnR1QW1sLfvz4Aba2tsDS0hIeitmg1QgK2aCwLQQlqdSz8lRNTQ04OTkBsVjs4SaRCJ6u666urh7n/Jmfgu+vSUkq9awzVVZWhqxCAfX19eDu7g4MDw+Dvr4+EI/HVVVVIatmXV0d6O3tBdvb289f/ROUpFJ5nanT01Nkn3YQBfv7+//1ug8fPlhZWQEtLS05v21sbICRkRG8zguYvAraiYkJMDk5CX79+gV2d3fB4OAgHpJuQEVFBeju7garq6s54zMzMzn3fAnh9vuT6elpMDY2hmwQWFhYAOPj4+Dm5uava4O00NjYmDP+6dMnZBN4PoRKPcXQ0BBYXFzMGd/f3weJROIvtVKpFLKlVMDl5SVobW1Ffk1kqNRTvHv3kMODp7u3twcqKyvB0dHR4/k7Pj4G5eXlyP4LEkTFoJz68uULmJube/Z6QqX+K4lEAszPz+MhSQcKHBwcIFtqffz4MXdB/8xbX1+HvBrJUKnnEjSTqVRKZ2cnaGpqypkzOjqKh/aEbBO5vLwMvn379my7oVJvhZJUKnTqrRA69VYInXorhE69FUKn3gol6dRvmH0TPcr0ry0AAAAASUVORK5CYII=\" y=\"-61.61012\"/>\r\n   </g>\r\n  </g>\r\n  <g id=\"axes_6\">\r\n   <g clip-path=\"url(#pa6daca44e9)\">\r\n    <image height=\"53\" id=\"imagec9aecd2bd0\" transform=\"scale(1 -1)translate(0 -53)\" width=\"53\" x=\"63.672289\" xlink:href=\"data:image/png;base64,\r\niVBORw0KGgoAAAANSUhEUgAAADUAAAA1CAYAAADh5qNwAAAABHNCSVQICAgIfAhkiAAAA2hJREFUaIHt2U9IlFsYx/GPeQsmzYXgolYjtUixhSGYrgoEs6BsFRohboI2YaDoItACiVoIoriRdBtEf1YKGgmStXCRu1oUiEJRCQqRkmj3LobX905p6Wj3MuP73cxw3nPOPM/5vc85z3kmC3/LMPb83wb8CSKn0oXIqXQhcipdyEin/tpMpwMHDoDa2lpw/Phx8OnTJzAwMADm5+fB8vLyzlq5RTJSqSybSJNevXoFjh079st+Q0NDYHx8HDx58gRMT09bWVnZjp1bYvcq9eHDB1BQUAC+ffsG3rx5A3JycsCRI0fWHd/R0eH27dtgdXV1exZvgt2r1NWrV0FPTw9YXFwEV65cASMjI6C8vBw0NjaCmpoaEIvF3Lp1CwwODoLZ2dlNGVhXVwfq6+vX2q5fvw7evn277pjdq1R2djbo7OwEzc3N4OvXr6CtrQ3cv38f4XlVVlYGent7174HqxuoPzY2BvLy8kBlZSW4dOkSOHfuHMK4JVS5sLBwXXt3r1IBe/fuhbX4aGlpSXo+PDwMLl++DBYWFpDYNYMzLMhGgqzj7t27oKSkBJw/fz5pzqdPn4I7d+4gfAtgampqXTsjpQL27dsHTp8+DR49epT0/ObNm+DZs2dgYmJCfn5+UlugzEYEMRVkJcHZuBkipX4kiLHS0lLw8OFDcPDgQbC0tIREbL18+RKhuvv370+a6/Pnz6Crqwt0d3cjtYw/Uup3BKtfXFwM2tvbwZkzZ9b67NmTWMfv378njX3//j04efIkePfuXcp2REqlyrVr15Iygn9z4cIFhOfXixcvwKlTp5BaVv+fOPUr7t27BxoaGpLag9fw+fPnW54zI1+/TRVefsehQ4fw81UkSF6DAs16BFv9j0pth0ipjejv7wfV1dXgxo0bSBRcYHJyUmtrK5iZmUka+/Hjx50wIYlIqY148OABQqUC4vH42mewZVdVVSG86L1+/XonTEgiUmojHj9+DE6cOAEuXryIsFwNhw8fBqOjo/hZ1Z0kI5X6IxnF0aNHQVNTExIXvlgslvjBrCyEMfXlyxdQVFQE5ubmEGYUQcF0K0RKpUo8Hl87pyoqKrDxdb6vrw+JJDhVIqV2gmBHzM3NBWfPnkX450Nwnd9KoeVHIqXShYxUKnIqXYicShcip9KFjHTqH4pTEi+J3fc4AAAAAElFTkSuQmCC\" y=\"-61.61012\"/>\r\n   </g>\r\n  </g>\r\n  <g id=\"axes_7\">\r\n   <g clip-path=\"url(#p08f402ff25)\">\r\n    <image height=\"53\" id=\"image0d066e0011\" transform=\"scale(1 -1)translate(0 -53)\" width=\"53\" x=\"120.144578\" xlink:href=\"data:image/png;base64,\r\niVBORw0KGgoAAAANSUhEUgAAADUAAAA1CAYAAADh5qNwAAAABHNCSVQICAgIfAhkiAAAAYRJREFUaIHtmTGqwkAURU+CnbWNjWIRjIJLcC1WdnEHAbfgHmxT6QrSWgkiNoK6Ais7k19FCSLkfzPPP8M7ZQJzc3MyD5J4QI5j+N++ABNoKVvQUragpWyhIRXU6XQAWK/XAIRhCIDneQAEQQDA8Xj8OEus1GAwAJ5lTKKP3ydMp1OpKDX1EcPhEHgOhgLfr/++qqm/EkURvV4PgDwvv+ksFgugnlFe4KQpkVL9fl8i5oGTpjwEXufv9/vLXioYjUYA7Pf72vKcNCUy/XzfJ8uy0rEkSYB6DT3yal/xHyBiKsuylz2VpqmxPCdNaSlbcLLU10a60TyxJEG+NtJNoqZ+SxzHJpd/i5qqSrvdBmAymbycm8/nAKxWKxPRgJqqzu12A+ByuQDQ7XYf5zabDQDn89lENKCmqnO9XgHYbrcAjMdjEzFvUVNVaTabwPOflDRqqiqtVguQ30sFaqoqp9MJgOVyCcBsNmO32wFwOBxMRJYQ+UIrjZOPn5ayBS1lC1rKFn4A8rlbGz+pzkQAAAAASUVORK5CYII=\" y=\"-61.61012\"/>\r\n   </g>\r\n  </g>\r\n  <g id=\"axes_8\">\r\n   <g clip-path=\"url(#p91d4683617)\">\r\n    <image height=\"53\" id=\"image1432d49868\" transform=\"scale(1 -1)translate(0 -53)\" width=\"53\" x=\"176.616867\" xlink:href=\"data:image/png;base64,\r\niVBORw0KGgoAAAANSUhEUgAAADUAAAA1CAYAAADh5qNwAAAABHNCSVQICAgIfAhkiAAAAxJJREFUaIHt2U0oZm8Yx/EPjTA1i3kWisSIZmUhCwt52WAxCzs1hShZiiXZTfaSopSUpslGkZhkYcHsFRsLK7OYkSjyHmYxnf+Tl4fjrcnzP9/NU+e5znVf1/mdc+7ffZ8UXEoyUv91AS9B1NRrIWrqtfDmIcHp6emgtbUV9PX1gffv34OpqSmwsLAApqenwa9fv55e6QNISqVShJinSkpKQEdHB2hpaQmVfGNjAxweHlpaWgIjIyNgbW3twcWGJVRTKysroLi4+PEDpaSA379/g5mZGdDZ2QmOj48fnfs6SXn7PehFcZ3h4WGwv79/Z1xtba3S0lKQlZUF2traQGFh4ZVck5OTTykJSapUqGeqoqIC9Pb24u+Vh4KCArC5uXnn+bFYzKdPn8Dg4CB49+7dlZijoyNQX18PFhcXQzVwG0mpVKhnanl5GfGrWFdXB7a3t0MNsrOz4+vXryAtLQ0MDAyAt2/fgszMTJCRkREq5138f5UKODs7A7Ozs48ecGxsDBwcHIBv3749OlciIqWek/n5+RfLHSmViPz8fNDU1IS4Cnf5ucBRvASRUtcJXHvguPPy8sCXL19uxKam/r1+FxcXTxkyFJFSibi8vLzyexuBQoligrnv+/fvT64nKZUK5dLv48OHD6C5uRnU1NTciAmcfiKl9vb2QHd3N5ibmwM/f/58cD3P0lQYGhsbES+6qKgIcYN7nWALobKyEvGlSRii2+85+fz5M2hvbwfV1dW3xsViMcRvzzAkpVL/zNBOTEyA8/NzUFZWhvhiMSCYyLu6ukLnjpRKmOTN3zTZ2dlXjgeLyrv20gPzu7u7i5tK5ebmIr6Pf3Jycm89SanUs7z9gj32/v7+K8e3trbA6OhoQkNbXl6OxG+/gOD/Hz9+3FtPUir1LM9UsLl5nWCLuaen578PBHeZ3uciUioRPT09YH19HTQ0NCC+MMzJyXl07vHxcbC6uhr6nKRU6kW838ePHxF34FVVVYaGhhB+OR98Lw484unpaejxI6VeC0mpVNTUayFq6rUQNfVaSMqm/gAxM+X83QTYlgAAAABJRU5ErkJggg==\" y=\"-61.61012\"/>\r\n   </g>\r\n  </g>\r\n  <g id=\"axes_9\">\r\n   <g clip-path=\"url(#pce5f73fe43)\">\r\n    <image height=\"53\" id=\"image291da05112\" transform=\"scale(1 -1)translate(0 -53)\" width=\"53\" x=\"7.2\" xlink:href=\"data:image/png;base64,\r\niVBORw0KGgoAAAANSUhEUgAAADUAAAA1CAYAAADh5qNwAAAABHNCSVQICAgIfAhkiAAAAYdJREFUaIHtmTGOgkAUhr/ZCMRKvYAlkUOo8QJ6D0/kEQyd3oHO2s7CzsbGgmhMeFu4y2az1S682TB5X0IgFPz8+YbADA4QAuPtv29AAyvVFaxUV+j5CtputwBkWQbAcrkE4Hw+t55lppowm80AGI1GAPT7fbUsb6byPCfPc5IkIUkSsiyrh2Lb2PBrg9vtBsBut1PLCNKU91LOOZxzxHFMHMcqGUGacniaehyPRwAmkwkAm80GgPV63XpWkKbgZUp1W61WUlWVVFUlZVlKWZaSpqmkaaqSF6QpL++pXu8rRuT1CD8eD7U8M/VXxuNxffx8PgGdKccnQZryUmqxWPiIqQnSlPev9P1+r55hptrger2qZwRpKshSqsNvOBwCMJ1ONWN+YKZ+ffGPD9nBYFCfO51OmpGAmWqHw+GgnmGmmuCcA+B+v6tnmakmfE7jfWCmmnC5XL7tNQnSFCguYkZRJFEUyXw+l6IopCgK9YVTQl3M9PaDwCdBmrJSXcFKdQUr1RWCLPUO1+C6P1yoS6sAAAAASUVORK5CYII=\" y=\"-116.62506\"/>\r\n   </g>\r\n  </g>\r\n  <g id=\"axes_10\">\r\n   <g clip-path=\"url(#p5420b14ee7)\">\r\n    <image height=\"53\" id=\"imageb41a0d58fb\" transform=\"scale(1 -1)translate(0 -53)\" width=\"53\" x=\"63.672289\" xlink:href=\"data:image/png;base64,\r\niVBORw0KGgoAAAANSUhEUgAAADUAAAA1CAYAAADh5qNwAAAABHNCSVQICAgIfAhkiAAAA1tJREFUaIHtmT1I82oUx39+TIoI2YqWIIKIiNWhgyCpCIKbdBCpiKCjDiI4mO2KOmoHp4Cig+jmxyj4hZso4qBgwQzWDgELikuFhD53yI25flTre+N935b84KGEPifnOf3nec45aQkgKDJKf/cCfgI/qELBD6pQ8IMqFDwNSlVVVFXFsiwsyyIajRKNRr10kRflXt5seHj41XVvby8AW1tbXrr5kqJ8/MAukzwZsiwLWZaFrutC13VhmqYwTVNMT0975iOfUZRKlfADBa2qqgDMzMwAcH9/TzgcBiCVSnnt7h2+UvlSXV0NwOzsLACjo6Poug5AQ0OD1+7e4Ss1Pj4OwObmJgB3d3efzlcUBYCdnR2qqqoAGBgYAODy8vLVXGevPT095bucnPhKHRwcACDLMuDumZWVlQ/nNzU1AaBpGu3t7bbDkhIAhHjtdn19HYChoaF8l5MTX6n+/n4A1tbWALAsC4DHx0fA3S8PDw8AzM/PAxCJRFyHb5RyPg3DAKCzsxPg5bT8FXylHAYHBwFYXV19fbN/VLi5uQGgvr7+5buzszMAampqAAgEAoBdbfz72gt8pRzKy+02zFFseXkZgNJS+zfKZrMAnJ6eAnaeWlhYAECSJAC2t7cBaGtrA9x9OjIy8v0o3uArlYvm5mbA7XDr6uoAWFxcBGBiYuKdzeTkJABzc3MAlJWVATA2NgbYue2/4FlzFgwGRTAYFIZhCMMwRCaTEZlMRkQikZw2mqYJTdOEZVnCsiyRTCZFMpn0m8S3/Ejr4TSHU1NTAFxfX9PV1QW4R7hDZWUlAEtLSwD09fUBcHJyArjJ2DTNvP37Sn2X8/NzAFpaWujp6QFgb2/vw7mtra0AHB8fA66CTtrY2NjI229RKuXpy8y3VFRUAHb59Pz8/Onci4sLAG5vbwE3TXxl9xFFqRT84EtFRVGEoihid3dXSJIkJEn60iYWi4lYLCbS6bRIp9MikUiIRCIhQqGQCIVCfp764zg6OgKgo6MDgMPDQwC6u7u/tC1KpcqAv373Ij6isbGRVCpFOBwmm80SCASora1F13Wurq4+tS1KpeB//IvlV0Y8HhfxePyl4tc0zT/9/mj29/cBuzpxKv5cFExQ36EoHz8/qELBD6pQ8IMqFP4GdkzqRnbpGB0AAAAASUVORK5CYII=\" y=\"-116.62506\"/>\r\n   </g>\r\n  </g>\r\n  <g id=\"axes_11\">\r\n   <g clip-path=\"url(#p8a351c4a64)\">\r\n    <image height=\"53\" id=\"image88c9b2286f\" transform=\"scale(1 -1)translate(0 -53)\" width=\"53\" x=\"120.144578\" xlink:href=\"data:image/png;base64,\r\niVBORw0KGgoAAAANSUhEUgAAADUAAAA1CAYAAADh5qNwAAAABHNCSVQICAgIfAhkiAAAAsdJREFUaIHt2M0r9F8Yx/GXHyJFosTaQxIhKRY2ykLZ0EjYYyEhrGRh59nK1kpW/gEbf4AyFvJQ8lBkJxZKNnMvNDTi9jAz9y/T913T1PmeM5/r6nOu77nmpCEixfjv/w4gGQRJ/RaCpH4LQVK/hYx4FmdlZYGRkZGY8fr6etDb2/sydn9/D1pbW8He3l480n8lzQ8O36WlJXB6egrW1ta+vPb29hYUFhZ+V/bLpOT2+5ZTTU1NYHl5GTQ3N8c8v7i4AIeHh6ClpQXk5ua+zIlEnuWOj49BY2MjeHh4+G7sHxI4tbGxAfr6+sDJyQkYHBwE19fXeK21hoYGUFFRYWpqCtTV1cX8ZrQ+p6enwePj4/ezeEPgVPSNtb6+DjY3N2O+/0ZJSQleaykvLy/meWlpKTg7O/tqOB8SOJUIFhYWwMTERMz45OQkWFxcjFsjcCoRRFurt2+5aK21tbWBq6urH2ukpFNxNbQ/4enpCczOzoKZmRmQmZkJ0tPT49YInPou7e3tID8//1Uw41lydHQ0Zu7+/j64vLyMWzdw6qtE/zTOzc2B7OzsZMh8SODUZ3R2doL5+Xm8nklf4ebmJmFxJDSpo6MjcH5+DsrKyp5FMj6XWVlZSVgcKbn9ktom9ff3g9ra2pcGNi0t7d25Y2NjYHV1NW7dwKmfUlxcbHt7G9TU1Lw7Z2trC4RCobj1UtIpnp1KyicUCkVCoVAkHA5HPqOysjJSWVmZEN2UdCqpNRVtUmtrax0cHIDq6up35wYXL5+QlIZ2aGgIlJeXv4y9vRJ7y/DwMBgfH49bPyWdSmhNFRQU4LUHLCoq+nTN3d0d6OnpgZfzLB5S0qmE1lR3dzfIycn58pquri6ws7OTsDhS0qmknFNVVVWgo6MDDAwM2N3dBeFwOGZutCuPXp0lgn9+Q/svSMntFyT1WwiS+i0ESf0W/gDDSgNQ1rgXiQAAAABJRU5ErkJggg==\" y=\"-116.62506\"/>\r\n   </g>\r\n  </g>\r\n  <g id=\"axes_12\">\r\n   <g clip-path=\"url(#p8e985a0283)\">\r\n    <image height=\"53\" id=\"image190e137950\" transform=\"scale(1 -1)translate(0 -53)\" width=\"53\" x=\"176.616867\" xlink:href=\"data:image/png;base64,\r\niVBORw0KGgoAAAANSUhEUgAAADUAAAA1CAYAAADh5qNwAAAABHNCSVQICAgIfAhkiAAAAmdJREFUaIHt2K9LLGscx/HXegWxKKjFoslgMIiIQWyu0aAYDAbBImgQBPFHuKCg0WA0Kv4DbhCMIgyCFpMK4haxGFRQ0Nm54bIuy/Fy1j17zmWGecO3PPN95vl++Mwzz48MIgmj7v8u4HeQiooLqai4kIqKC6mouJCKiguJFFVfTafFxUXQ29sLhoeHy55nMhkQBMFn/s3NDQjDsLpKv0Eincr4xtFjeXkZrK2tgcbGxi/zrq+vQVdXF7i7uzM+Pg7Oz8+rLrZSUqfu7+9BU1MTWFpaAjs7O1/mr6+vg5WVFcfHx2BiYgI8PT1VV3EFpE61t7eDw8ND0NHRARYWFsDe3l5ZfltbG3h4ePhsGxoaAqenp1WW/HMS6dS31qninOrr6wMDAwPg4uKiLK+lpQXMzc19tr28vIDHx8cqS62cRDrFv3OqphEEQRQEQRSGYRSGYZTP56NsNhtls9maj/VVpE5VGkUKhUJUKBSi0dHRP+JQMRLp1F/4u9YvbWhocHJyYnBwENTV1cnlcurr6318fNR6uB+o6ujxMzY2NsD7+zuYmpoyMjKC0rHk6OgIvL291Xz8RH5+39om/Qrb29tgfn4epU3w6uoqSotzLUid+hVaW1vB5uYmmJmZQWnbdHt7C7a2tsDl5SV4fX0F+Xy+4rFSp2rJ7u4u6OnpAf39/V/mPT8/g/39fXB2dubg4AD//edMnfqdFK/ZxsbGwOTkJGhubgZR9GOZV1dXoLu7u6w9depP0tnZidI1XNG52dnZz5xcLgemp6fL+qZOxYVEOpWKigupqLiQiooLqai4kIqKC4kU9Q/Vcx1yJCdeOQAAAABJRU5ErkJggg==\" y=\"-116.62506\"/>\r\n   </g>\r\n  </g>\r\n  <g id=\"axes_13\">\r\n   <g clip-path=\"url(#p7ae35fbbf2)\">\r\n    <image height=\"53\" id=\"image6fa86e35ff\" transform=\"scale(1 -1)translate(0 -53)\" width=\"53\" x=\"7.2\" xlink:href=\"data:image/png;base64,\r\niVBORw0KGgoAAAANSUhEUgAAADUAAAA1CAYAAADh5qNwAAAABHNCSVQICAgIfAhkiAAAA0hJREFUaIHtmU8ofFEUxz/zo5EilMJGoljJIJKyoZQFxQZJScnKRtjYWVhYWZK1lJKwUohiQcrfhCxsxMZianr+z7OY35nn/ZiZ+3vzpHnep17Tu+++c8/p++65597xADoO489PO/AduEElCm5QiUJyPC+npKQA0NraCkB9fT0Al5eXALS0tIT7np+fm97d2NgwtR8eHsbjiglHKuXBwjpVUFAAwPj4OAAdHR2WHXh9fQVgcnISgIWFBQB2d3ct27QUVF9fHwDT09NfPj84OADA7/eH2zIyMgAoLy+PajsQCADGJ72+vv6/7jnz87OUKBoaGr5sr6ioAODi4gKAh4eH8LPU1FQARkZGABgcHAQgPT3dZEPuFxcXAWhubgZga2tL2T9HKmVpTuXm5gKwuroKQGlpKQBZWVmAeS5FIicnBzAUGx4e/rLfyckJAGVlZcr+uUr9S15eHmBkQ1lI5+fnlW0kJSUBhuqygAuS8qV9e3s7pk1HKhVXmXR7ewvA2NiYZRtvb28AHB0dAZ+VSk4OuVhTUwO4Sv2gA3+VqKysjNqvuLhY2aarlJ10dXUBMDAwAEB1dXXU/ldXV8q2HalUXOtULPLz8wHIzs4OVxBtbW0A9Pb2hhzweKLakJpP6s1gMBhzXEcqZeucqq2tBWB0dBSAqqoqIKSUKqKEbBonJiZM7Sq4SsVC5ktTU5PyO/v7+wCsrKwAxj7q9PTUsh+2JgpJyzs7O4BRrH7k+fkZMLbra2trALy8vNjlhvv5xWRvbw+AxsZGALq7uwHo6ekJ95EULule1HSVUkD/rsvr9eper1efmprSNU3TNU3Tg8Gg6fL5fLrP57N1XEcq9a1l0kc6OzsBmJ2dNbU/PT0BUFdXBxgpPh5+l1JFRUVAaHMm/2IImqYBxnZeBTmklCMvyX7CzMwMAP39/co2I+FIpSKuU3JkVVhY+OnZ/f09AMfHx1GNy/FzSUkJmZmZwGeFhOXlZQV31XCkUhHnlJT8Q0NDtg4oW4izszMA5ubmTL/X19dxj/G7lEpLSwOgvb2dx8dHwDjGkkwmhyebm5sA3NzcRBzo7u4OgKWlJcCe9SgSv0upRMaRSrlBJQpuUImCG1Si4Mig3gHVZTlrJDZmcwAAAABJRU5ErkJggg==\" y=\"-171.64\"/>\r\n   </g>\r\n  </g>\r\n  <g id=\"axes_14\">\r\n   <g clip-path=\"url(#p9c5246ea89)\">\r\n    <image height=\"53\" id=\"imagee6ed9b4960\" transform=\"scale(1 -1)translate(0 -53)\" width=\"53\" x=\"63.672289\" xlink:href=\"data:image/png;base64,\r\niVBORw0KGgoAAAANSUhEUgAAADUAAAA1CAYAAADh5qNwAAAABHNCSVQICAgIfAhkiAAAA41JREFUaIHt2E9IVVsUx/GPf6IUS2oiaiEOchw4MAgiqIF/wKKBJRREcwea4CwlCYKQCocOIh04EIJUKhoUokUIEmiTIkilbFKgKORAum8g2+u5ST2v1/fwcr5wOJx979lrLX577b3WyUFClpH7fzuwG8RB7RXioPYKcVB7hTiovUJWBpW/k5cbGhpAW1sbOHPmDEgkopXXo0ePzMzMgHfv3oGxsbGdmP4jWalUjjQK2urqavDq1StQWFi4PllODn5XajMrKytgYGAAtLS0bNf8X8lKpdLKqX379iGpUODUqVPgxIkT4M6dO6CoqGjjPwcPHgRNTU3g6dOn4NmzZ+m4siWxUoHz589Hnp88eQLevn0LVldXwfLyMtaV6u/vB+fOnQMHDhwAXV1dYHp6GiwtLSGZe+kQK5VK2O3CPZXc3NyN34MS169fB1VVVeD58+dgfn4e3LhxA9y/fz9tv7JSqbTOqY6ODnD79u3IeH5+VPjXr1+DmpqajbGzZ88iWVGcPHkSTExMRN4NSrW3t2/XvVipDerq6sDIyEhk/NatW5F7SUkJ6OvrU19fj98riqDE8ePHwdDQECgtLY38bzuVR6xUIFQF165dA/fu3QPfvn0DDx8+BDdv3sT6TtfZ2QkuX74Mvn//Dl68eAF6enpAcXExePnyJfjw4QOSq2Nubu6v/mWlUmmdU6FS+Pz5c2S8rKwMXL16FTaqiI8fP7p79y4oKCgAjY2NoLm5Gckq5cuXL5E5Q4WxHdJafoGwDIeHh5FsEn/9+oVkgRvKJ2htbY3METaAioqKyHg4uI8ePQq+fv36r/2Kl18qeXl5YGpqCpw+fRrJJjE8b1YqbCqBoOqxY8ci4+kcuoFYqVQWFxfB+Pg4fs+Xw4cPYz0vUjeAwIMHD3biwpZkpVI72v1SefPmDZLt/MLCAqitrfXp06dMmfkrWakU60pl9Oru7k50d3cn1tbWEmtra4mRkZFEeXl5ory8POO2trqyUqmM5lQgtVXfXC1cvHgRyY81u0Gs1HbZqlUPH2muXLkCBgcHM243K5XKQ9duTV5YWOjnz58qKys32vWg1OTkpEOHDtm/f7/Kykqzs7MZs5uVSu1qTgVKSko8fvwYyTwLlfz79++R/HT248ePHdv7T4LaTG9vL7h06RI4cuQIGB0dBRcuXNixjXj5ZZLUAzo0nKltfTrESu0VslKpOKi9wj8ktEdwvyo9XAAAAABJRU5ErkJggg==\" y=\"-171.64\"/>\r\n   </g>\r\n  </g>\r\n  <g id=\"axes_15\">\r\n   <g clip-path=\"url(#p7137906839)\">\r\n    <image height=\"53\" id=\"image19a93cbcb0\" transform=\"scale(1 -1)translate(0 -53)\" width=\"53\" x=\"120.144578\" xlink:href=\"data:image/png;base64,\r\niVBORw0KGgoAAAANSUhEUgAAADUAAAA1CAYAAADh5qNwAAAABHNCSVQICAgIfAhkiAAAAVVJREFUaIHtmj+KwkAYR98sSxAvYBsQKyFYeYhcxQsFUlkJKS1EENJ5Bi8gWKQNhKTIWCwMLGuh4jfLDN8DYUjz/PHiH0QDWCLj67+fgAQ6KhR0VCh8+5CkacputwNgu90CUBSFmC/KUvDzOSX6KMvSjuNox3G0dV3buq5FfV5uv9Vq5c5t24r7orz9REslSQLAZDJx106nk6QS0FKvM5vNAFgul5KaP2ipT3A4HMQdWuoT9H0v7oiylI4KBe+vqfl8DsD1ehVzRFnK+6gsy8iyTNShpd7FGOND49BS72Kt31+2tVQo6KhQ8PI1yRjj3iyGYRD3aal3sda6Qvv9XtynpV5lvV67c1VVANxuN0kloKVeZ7PZuPPlcpFU/UJLPct0OgVgsVi4a03TSKgeoqWepes6AM7nMwB5nnM8HiVUD4mylEH/mxQGOioUdFQo6KhQiHLUHdMmftjOoSouAAAAAElFTkSuQmCC\" y=\"-171.64\"/>\r\n   </g>\r\n  </g>\r\n  <g id=\"axes_16\">\r\n   <g clip-path=\"url(#p04f8766c7c)\">\r\n    <image height=\"53\" id=\"image1d410a5a00\" transform=\"scale(1 -1)translate(0 -53)\" width=\"53\" x=\"176.616867\" xlink:href=\"data:image/png;base64,\r\niVBORw0KGgoAAAANSUhEUgAAADUAAAA1CAYAAADh5qNwAAAABHNCSVQICAgIfAhkiAAAA0lJREFUaIHtmT1I61AUx39pXzOo4AddFEURofFjEsFughW/lipufgwuDhYnB9HpieAo6FBBBzcFcXIRFUdFUAcRxUoGFUQHhapTITFv6Ev74rM0tel7NOQHF9ok95x7+s89995TAdCwGa7/PYBckFVQgUCAQCCAoigoikIwGCQYDFo1tm9jS6V+ZNO5s7PT8H1hYQGA6+trACKRSDbmv40tlXIDP7/b+fHxkfPzc2pqapBlmZaWFkpKSvB4PPj9fmRZxuv18vLyYt2ITWBLpbKaU5eXlwC8vb0Zro+NjQFwcXEB/Pu5JWDB4itJEgCTk5MAjI6OAnBzcwNAT08Pd3d32boxjS1fP4grZUmTJEmTJElTFMXQIpGIZT7MNFsqlVVK/0wsFuP9/Z26ujqurq5oaGgAoKysjGg0SmtrKycnJwiCgKblbh9tS6UsyX6fKSgoAGB4eBiAcDiMIAgArK+vAzAxMQFANBq12r09lYIcZiFRFDVRFLWdnR1NVVVNVdVERgyFQlooFNJcLpfmcrmc7GeGnK8b8/Pzmo6umN58Pp/m8/kcpdKRk+z3FaqqAvy1Po2PjwOwsrJimS9bKpXV0SMT+vr6ANjc3ATA4/EAsLS0BIDb7QZgeXk5a1+2VCqjOTUwMADAzMwMAK+vrwAMDg4C8PT0lNbG9PQ0AHNzc4br+oGzq6vLtK1UOErt7u4C8SLmnxwdHQEwOzsLwMHBQUobpaWlAHR3dwPJOVRUVJSxrVRkFJRe59va2gKSG1ed+/t7AEZGRgA4PDxMa3N7exuA3t5ew/XFxUUgWSLIBOf109nb2wOgvb39y/uxWAyAqakpAI6Pjzk9Pf3y2XA4DCQrUDq3t7cA+P1+AJ6fn02Pz1FKp6OjA4DV1VUAqqqq0vZpbGwEkr+41+sFoKKiAoC1tTUAKisrDf329/eBeJnNLI5SnykvLwdgY2MDgNraWsP94uJiAAoLCxPH+bOzMwCam5tN+Xh4eACgurra9LgcpTKlra0NgKampsTn/v7+uOPfyqXi4+MDAFmWARLlNjM4SlmBvkMQRRGA+vp6AIaGhgzP6f9G6lkzExyl8gVbKuUElS84QeULTlD5ghNUvuAElS/YMqhfq6msboVG2q0AAAAASUVORK5CYII=\" y=\"-171.64\"/>\r\n   </g>\r\n  </g>\r\n </g>\r\n <defs>\r\n  <clipPath id=\"pb9964b8fb3\">\r\n   <rect height=\"52.395181\" width=\"52.395181\" x=\"7.2\" y=\"7.2\"/>\r\n  </clipPath>\r\n  <clipPath id=\"pde63b29618\">\r\n   <rect height=\"52.395181\" width=\"52.395181\" x=\"63.672289\" y=\"7.2\"/>\r\n  </clipPath>\r\n  <clipPath id=\"pdf19032e27\">\r\n   <rect height=\"52.395181\" width=\"52.395181\" x=\"120.144578\" y=\"7.2\"/>\r\n  </clipPath>\r\n  <clipPath id=\"p32559b89a6\">\r\n   <rect height=\"52.395181\" width=\"52.395181\" x=\"176.616867\" y=\"7.2\"/>\r\n  </clipPath>\r\n  <clipPath id=\"p61879644a7\">\r\n   <rect height=\"52.395181\" width=\"52.395181\" x=\"7.2\" y=\"62.21494\"/>\r\n  </clipPath>\r\n  <clipPath id=\"pa6daca44e9\">\r\n   <rect height=\"52.395181\" width=\"52.395181\" x=\"63.672289\" y=\"62.21494\"/>\r\n  </clipPath>\r\n  <clipPath id=\"p08f402ff25\">\r\n   <rect height=\"52.395181\" width=\"52.395181\" x=\"120.144578\" y=\"62.21494\"/>\r\n  </clipPath>\r\n  <clipPath id=\"p91d4683617\">\r\n   <rect height=\"52.395181\" width=\"52.395181\" x=\"176.616867\" y=\"62.21494\"/>\r\n  </clipPath>\r\n  <clipPath id=\"pce5f73fe43\">\r\n   <rect height=\"52.395181\" width=\"52.395181\" x=\"7.2\" y=\"117.22988\"/>\r\n  </clipPath>\r\n  <clipPath id=\"p5420b14ee7\">\r\n   <rect height=\"52.395181\" width=\"52.395181\" x=\"63.672289\" y=\"117.22988\"/>\r\n  </clipPath>\r\n  <clipPath id=\"p8a351c4a64\">\r\n   <rect height=\"52.395181\" width=\"52.395181\" x=\"120.144578\" y=\"117.22988\"/>\r\n  </clipPath>\r\n  <clipPath id=\"p8e985a0283\">\r\n   <rect height=\"52.395181\" width=\"52.395181\" x=\"176.616867\" y=\"117.22988\"/>\r\n  </clipPath>\r\n  <clipPath id=\"p7ae35fbbf2\">\r\n   <rect height=\"52.395181\" width=\"52.395181\" x=\"7.2\" y=\"172.244819\"/>\r\n  </clipPath>\r\n  <clipPath id=\"p9c5246ea89\">\r\n   <rect height=\"52.395181\" width=\"52.395181\" x=\"63.672289\" y=\"172.244819\"/>\r\n  </clipPath>\r\n  <clipPath id=\"p7137906839\">\r\n   <rect height=\"52.395181\" width=\"52.395181\" x=\"120.144578\" y=\"172.244819\"/>\r\n  </clipPath>\r\n  <clipPath id=\"p04f8766c7c\">\r\n   <rect height=\"52.395181\" width=\"52.395181\" x=\"176.616867\" y=\"172.244819\"/>\r\n  </clipPath>\r\n </defs>\r\n</svg>\r\n",
      "image/png": "[encoded data removed]"
     },
     "metadata": {
      "needs_background": "light"
     }
    }
   ],
   "source": [
    "# show a batch\n",
    "mnist = MNIST(batch_size=16) \n",
    "show_images(mnist.X[:16])"
   ]
  },
  {
   "cell_type": "markdown",
   "metadata": {},
   "source": [
    "## LeakyReLU\n",
    "In the cell below, you should implement a LeakyReLU. See the [class notes](http://cs231n.github.io/neural-networks-1/) (where alpha is small number) or equation (3) in [this paper](http://ai.stanford.edu/~amaas/papers/relu_hybrid_icml2013_final.pdf). LeakyReLUs keep ReLU units from dying and are often used in GAN methods (as are maxout units, however those increase model size and therefore are not used in this notebook).\n",
    "\n",
    "HINT: You should be able to use `tf.maximum`\n",
    "\n",
    "Implement `leaky_relu` in `cs231n/gan_tf.py`"
   ]
  },
  {
   "cell_type": "markdown",
   "metadata": {},
   "source": [
    "Test your leaky ReLU implementation. You should get errors < 1e-10"
   ]
  },
  {
   "cell_type": "code",
   "execution_count": 6,
   "metadata": {
    "tags": []
   },
   "outputs": [
    {
     "output_type": "stream",
     "name": "stdout",
     "text": "Maximum error: 0\n"
    }
   ],
   "source": [
    "from cs231n.gan_tf import leaky_relu\n",
    "\n",
    "def test_leaky_relu(x, y_true):\n",
    "    y = leaky_relu(tf.constant(x))\n",
    "    print('Maximum error: %g'%rel_error(y_true, y))\n",
    "\n",
    "test_leaky_relu(answers['lrelu_x'], answers['lrelu_y'])"
   ]
  },
  {
   "cell_type": "markdown",
   "metadata": {},
   "source": [
    "## Random Noise\n",
    "Generate a TensorFlow `Tensor` containing uniform noise from -1 to 1 with shape `[batch_size, dim]`.\n",
    "\n",
    "Implement `sample_noise` in `cs231n/gan_tf.py`"
   ]
  },
  {
   "cell_type": "markdown",
   "metadata": {},
   "source": [
    "Make sure noise is the correct shape and type:"
   ]
  },
  {
   "cell_type": "code",
   "execution_count": 8,
   "metadata": {
    "tags": []
   },
   "outputs": [
    {
     "output_type": "stream",
     "name": "stdout",
     "text": "All tests passed!\n"
    }
   ],
   "source": [
    "from cs231n.gan_tf import sample_noise\n",
    "\n",
    "def test_sample_noise():\n",
    "    batch_size = 3\n",
    "    dim = 4\n",
    "    z = sample_noise(batch_size, dim)\n",
    "    # Check z has the correct shape\n",
    "    assert z.get_shape().as_list() == [batch_size, dim]\n",
    "    # Make sure z is a Tensor and not a numpy array\n",
    "    assert isinstance(z, tf.Tensor)\n",
    "    # Check that we get different noise for different evaluations\n",
    "    z1 = sample_noise(batch_size, dim)\n",
    "    z2 = sample_noise(batch_size, dim)\n",
    "    assert not np.array_equal(z1, z2)\n",
    "    # Check that we get the correct range\n",
    "    assert np.all(z1 >= -1.0) and np.all(z1 <= 1.0)\n",
    "    print(\"All tests passed!\")\n",
    "    \n",
    "test_sample_noise()"
   ]
  },
  {
   "cell_type": "markdown",
   "metadata": {},
   "source": [
    "## Discriminator\n",
    "Our first step is to build a discriminator. **Hint:** You should use the layers in `tf.keras.layers` to build the model.\n",
    "All fully connected layers should include bias terms. For initialization, just use the default initializer used by the `tf.keras.layers` functions.\n",
    "\n",
    "Architecture:\n",
    " * Fully connected layer with input size 784 and output size 256\n",
    " * LeakyReLU with alpha 0.01\n",
    " * Fully connected layer with output size 256\n",
    " * LeakyReLU with alpha 0.01\n",
    " * Fully connected layer with output size 1 \n",
    " \n",
    "The output of the discriminator should thus have shape `[batch_size, 1]`, and contain real numbers corresponding to the scores that each of the `batch_size` inputs is a real image.\n",
    "\n",
    "Implement `discriminator()` in `cs231n/gan_tf.py`"
   ]
  },
  {
   "cell_type": "markdown",
   "metadata": {},
   "source": [
    "Test to make sure the number of parameters in the discriminator is correct:"
   ]
  },
  {
   "cell_type": "code",
   "execution_count": 10,
   "metadata": {
    "tags": []
   },
   "outputs": [
    {
     "output_type": "stream",
     "name": "stdout",
     "text": "Correct number of parameters in discriminator.\n"
    }
   ],
   "source": [
    "from cs231n.gan_tf import discriminator\n",
    "\n",
    "def test_discriminator(true_count=267009, discriminator=discriminator):\n",
    "    model = discriminator()\n",
    "    cur_count = count_params(model)\n",
    "    if cur_count != true_count:\n",
    "        print('Incorrect number of parameters in discriminator. {0} instead of {1}. Check your achitecture.'.format(cur_count,true_count))\n",
    "    else:\n",
    "        print('Correct number of parameters in discriminator.')\n",
    "        \n",
    "test_discriminator()"
   ]
  },
  {
   "cell_type": "markdown",
   "metadata": {},
   "source": [
    "## Generator\n",
    "Now to build a generator. You should use the layers in `tf.keras.layers` to construct the model. All fully connected layers should include bias terms. Note that you can use the tf.nn module to access activation functions. Once again, use the default initializers for parameters.\n",
    "\n",
    "Architecture:\n",
    " * Fully connected layer with inupt size tf.shape(z)[1] (the number of noise dimensions) and output size 1024\n",
    " * `ReLU`\n",
    " * Fully connected layer with output size 1024 \n",
    " * `ReLU`\n",
    " * Fully connected layer with output size 784\n",
    " * `TanH` (To restrict every element of the output to be in the range [-1,1])\n",
    " \n",
    " Implement `generator()` in `cs231n/gan_tf.py`"
   ]
  },
  {
   "cell_type": "markdown",
   "metadata": {},
   "source": [
    "Test to make sure the number of parameters in the generator is correct:"
   ]
  },
  {
   "cell_type": "code",
   "execution_count": 11,
   "metadata": {
    "tags": []
   },
   "outputs": [
    {
     "output_type": "stream",
     "name": "stdout",
     "text": "Correct number of parameters in generator.\n"
    }
   ],
   "source": [
    "from cs231n.gan_tf import generator\n",
    "\n",
    "def test_generator(true_count=1858320, generator=generator):\n",
    "    model = generator(4)\n",
    "    cur_count = count_params(model)\n",
    "    if cur_count != true_count:\n",
    "        print('Incorrect number of parameters in generator. {0} instead of {1}. Check your achitecture.'.format(cur_count,true_count))\n",
    "    else:\n",
    "        print('Correct number of parameters in generator.')\n",
    "        \n",
    "test_generator()"
   ]
  },
  {
   "cell_type": "markdown",
   "metadata": {},
   "source": [
    "# GAN Loss\n",
    "\n",
    "Compute the generator and discriminator loss. The generator loss is:\n",
    "$$\\ell_G  =  -\\mathbb{E}_{z \\sim p(z)}\\left[\\log D(G(z))\\right]$$\n",
    "and the discriminator loss is:\n",
    "$$ \\ell_D = -\\mathbb{E}_{x \\sim p_\\text{data}}\\left[\\log D(x)\\right] - \\mathbb{E}_{z \\sim p(z)}\\left[\\log \\left(1-D(G(z))\\right)\\right]$$\n",
    "Note that these are negated from the equations presented earlier as we will be *minimizing* these losses.\n",
    "\n",
    "**HINTS**: Use [tf.ones](https://www.tensorflow.org/versions/r2.0/api_docs/python/tf/ones) and [tf.zeros](https://www.tensorflow.org/versions/r2.0/api_docs/python/tf/zeros) to generate labels for your discriminator. Use [tf.keras.losses.BinaryCrossentropy](https://www.tensorflow.org/versions/r2.0/api_docs/python/tf/losses/BinaryCrossentropy) to help compute your loss function.\n",
    "\n",
    "Implement `discriminator_loss, generator_loss` in `cs231n/gan_tf.py`"
   ]
  },
  {
   "cell_type": "markdown",
   "metadata": {},
   "source": [
    "Test your GAN loss. Make sure both the generator and discriminator loss are correct. You should see errors less than 1e-8."
   ]
  },
  {
   "cell_type": "code",
   "execution_count": 27,
   "metadata": {
    "tags": []
   },
   "outputs": [
    {
     "output_type": "stream",
     "name": "stdout",
     "text": "Maximum error in d_loss: 0\n"
    }
   ],
   "source": [
    "from cs231n.gan_tf import discriminator_loss\n",
    "\n",
    "def test_discriminator_loss(logits_real, logits_fake, d_loss_true):\n",
    "    d_loss = discriminator_loss(tf.constant(logits_real),\n",
    "                                tf.constant(logits_fake))\n",
    "    print(\"Maximum error in d_loss: %g\"%rel_error(d_loss_true, d_loss))\n",
    "\n",
    "test_discriminator_loss(answers['logits_real'], answers['logits_fake'],\n",
    "                        answers['d_loss_true'])"
   ]
  },
  {
   "cell_type": "code",
   "execution_count": 28,
   "metadata": {
    "tags": []
   },
   "outputs": [
    {
     "output_type": "stream",
     "name": "stdout",
     "text": "Maximum error in g_loss: 7.19722e-17\n"
    }
   ],
   "source": [
    "from cs231n.gan_tf import generator_loss\n",
    "\n",
    "def test_generator_loss(logits_fake, g_loss_true):\n",
    "    g_loss = generator_loss(tf.constant(logits_fake))\n",
    "    print(\"Maximum error in g_loss: %g\"%rel_error(g_loss_true, g_loss))\n",
    "\n",
    "test_generator_loss(answers['logits_fake'], answers['g_loss_true'])"
   ]
  },
  {
   "cell_type": "markdown",
   "metadata": {},
   "source": [
    "# Optimizing our loss\n",
    "Make an `Adam` optimizer with a 1e-3 learning rate, beta1=0.5 to mininize G_loss and D_loss separately. The trick of decreasing beta was shown to be effective in helping GANs converge in the [Improved Techniques for Training GANs](https://arxiv.org/abs/1606.03498) paper. In fact, with our current hyperparameters, if you set beta1 to the Tensorflow default of 0.9, there's a good chance your discriminator loss will go to zero and the generator will fail to learn entirely. In fact, this is a common failure mode in GANs; if your D(x) learns too fast (e.g. loss goes near zero), your G(z) is never able to learn. Often D(x) is trained with SGD with Momentum or RMSProp instead of Adam, but here we'll use Adam for both D(x) and G(z). \n",
    "\n",
    "Implement `get_solvers` in `cs231n/gan_tf.py`"
   ]
  },
  {
   "cell_type": "code",
   "execution_count": null,
   "metadata": {},
   "outputs": [],
   "source": [
    "from cs231n.gan_tf import get_solvers"
   ]
  },
  {
   "cell_type": "markdown",
   "metadata": {
    "tags": [
     "pdf-ignore"
    ]
   },
   "source": [
    "# Training a GAN!\n",
    "Well that wasn't so hard, was it? After the first epoch, you should see fuzzy outlines, clear shapes as you approach epoch 3, and decent shapes, about half of which will be sharp and clearly recognizable as we pass epoch 5. In our case, we'll simply train D(x) and G(z) with one batch each every iteration. However, papers often experiment with different schedules of training D(x) and G(z), sometimes doing one for more steps than the other, or even training each one until the loss gets \"good enough\" and then switching to training the other. \n",
    "\n",
    "**If you are a Colab user, it is recommeded to change colab runtime to GPU.**"
   ]
  },
  {
   "cell_type": "markdown",
   "metadata": {},
   "source": [
    "#### Train your GAN! This should take about 10 minutes on a CPU, or about 2 minutes on GPU."
   ]
  },
  {
   "cell_type": "code",
   "execution_count": null,
   "metadata": {
    "scrolled": true
   },
   "outputs": [],
   "source": [
    "from cs231n.gan_tf import run_a_gan\n",
    "\n",
    "# Make the discriminator\n",
    "D = discriminator()\n",
    "\n",
    "# Make the generator\n",
    "G = generator()\n",
    "\n",
    "# Use the function you wrote earlier to get optimizers for the Discriminator and the Generator\n",
    "D_solver, G_solver = get_solvers()\n",
    "\n",
    "# Run it!\n",
    "images, final = run_a_gan(D, G, D_solver, G_solver, discriminator_loss, generator_loss)"
   ]
  },
  {
   "cell_type": "code",
   "execution_count": null,
   "metadata": {},
   "outputs": [],
   "source": [
    "numIter = 0\n",
    "for img in images:\n",
    "    print(\"Iter: {}\".format(numIter))\n",
    "    show_images(img)\n",
    "    plt.show()\n",
    "    numIter += 20\n",
    "    print()\n",
    "    \n"
   ]
  },
  {
   "cell_type": "markdown",
   "metadata": {},
   "source": [
    "**Please tag the cell below on Gradescope while submitting.**"
   ]
  },
  {
   "cell_type": "code",
   "execution_count": null,
   "metadata": {},
   "outputs": [],
   "source": [
    "print('Vanilla GAN Final images')\n",
    "show_images(final)\n",
    "plt.show()"
   ]
  },
  {
   "cell_type": "markdown",
   "metadata": {},
   "source": [
    "# Least Squares GAN\n",
    "We'll now look at [Least Squares GAN](https://arxiv.org/abs/1611.04076), a newer, more stable alternative to the original GAN loss function. For this part, all we have to do is change the loss function and retrain the model. We'll implement equation (9) in the paper, with the generator loss:\n",
    "$$\\ell_G  =  \\frac{1}{2}\\mathbb{E}_{z \\sim p(z)}\\left[\\left(D(G(z))-1\\right)^2\\right]$$\n",
    "and the discriminator loss:\n",
    "$$ \\ell_D = \\frac{1}{2}\\mathbb{E}_{x \\sim p_\\text{data}}\\left[\\left(D(x)-1\\right)^2\\right] + \\frac{1}{2}\\mathbb{E}_{z \\sim p(z)}\\left[ \\left(D(G(z))\\right)^2\\right]$$\n",
    "\n",
    "\n",
    "**HINTS**: Instead of computing the expectation, we will be averaging over elements of the minibatch, so make sure to combine the loss by averaging instead of summing. When plugging in for $D(x)$ and $D(G(z))$ use the direct output from the discriminator (`score_real` and `score_fake`).\n",
    "\n",
    "Implement `ls_discriminator_loss, ls_generator_loss` in `cs231n/gan_tf.py`"
   ]
  },
  {
   "cell_type": "markdown",
   "metadata": {},
   "source": [
    "Test your LSGAN loss. You should see errors less than 1e-8."
   ]
  },
  {
   "cell_type": "code",
   "execution_count": null,
   "metadata": {},
   "outputs": [],
   "source": [
    "from cs231n.gan_tf import ls_discriminator_loss, ls_generator_loss\n",
    "\n",
    "def test_lsgan_loss(score_real, score_fake, d_loss_true, g_loss_true):\n",
    "    \n",
    "    d_loss = ls_discriminator_loss(tf.constant(score_real), tf.constant(score_fake))\n",
    "    g_loss = ls_generator_loss(tf.constant(score_fake))\n",
    "    print(\"Maximum error in d_loss: %g\"%rel_error(d_loss_true, d_loss))\n",
    "    print(\"Maximum error in g_loss: %g\"%rel_error(g_loss_true, g_loss))\n",
    "\n",
    "test_lsgan_loss(answers['logits_real'], answers['logits_fake'],\n",
    "                answers['d_loss_lsgan_true'], answers['g_loss_lsgan_true'])"
   ]
  },
  {
   "cell_type": "markdown",
   "metadata": {},
   "source": [
    "Create new training steps so we instead minimize the LSGAN loss:"
   ]
  },
  {
   "cell_type": "code",
   "execution_count": null,
   "metadata": {},
   "outputs": [],
   "source": [
    "# Make the discriminator\n",
    "D = discriminator()\n",
    "\n",
    "# Make the generator\n",
    "G = generator()\n",
    "\n",
    "# Use the function you wrote earlier to get optimizers for the Discriminator and the Generator\n",
    "D_solver, G_solver = get_solvers()\n",
    "\n",
    "# Run it!\n",
    "images, final = run_a_gan(D, G, D_solver, G_solver, ls_discriminator_loss, ls_generator_loss)"
   ]
  },
  {
   "cell_type": "code",
   "execution_count": null,
   "metadata": {},
   "outputs": [],
   "source": [
    "numIter = 0\n",
    "for img in images:\n",
    "    print(\"Iter: {}\".format(numIter))\n",
    "    show_images(img)\n",
    "    plt.show()\n",
    "    numIter += 20\n",
    "    print()\n",
    "    \n"
   ]
  },
  {
   "cell_type": "markdown",
   "metadata": {},
   "source": [
    "**Please tag the cell below on Gradescope while submitting.**"
   ]
  },
  {
   "cell_type": "code",
   "execution_count": null,
   "metadata": {},
   "outputs": [],
   "source": [
    "print('LSGAN Final images')\n",
    "show_images(final)\n",
    "plt.show()"
   ]
  },
  {
   "cell_type": "markdown",
   "metadata": {},
   "source": [
    "# Deep Convolutional GANs\n",
    "In the first part of the notebook, we implemented an almost direct copy of the original GAN network from Ian Goodfellow. However, this network architecture allows no real spatial reasoning. It is unable to reason about things like \"sharp edges\" in general because it lacks any convolutional layers. Thus, in this section, we will implement some of the ideas from [DCGAN](https://arxiv.org/abs/1511.06434), where we use convolutional networks as our discriminators and generators.\n",
    "\n",
    "#### Discriminator\n",
    "We will use a discriminator inspired by the TensorFlow MNIST classification [tutorial](https://www.tensorflow.org/get_started/mnist/pros), which is able to get above 99% accuracy on the MNIST dataset fairly quickly. *Be sure to check the dimensions of x and reshape when needed*, fully connected blocks expect [N,D] Tensors while conv2d blocks expect [N,H,W,C] Tensors. Please use `tf.keras.layers` to define the following architecture:\n",
    "\n",
    "Architecture:\n",
    "* Conv2D: 32 Filters, 5x5, Stride 1, padding 0\n",
    "* Leaky ReLU(alpha=0.01)\n",
    "* Max Pool 2x2, Stride 2\n",
    "* Conv2D: 64 Filters, 5x5, Stride 1, padding 0\n",
    "* Leaky ReLU(alpha=0.01)\n",
    "* Max Pool 2x2, Stride 2\n",
    "* Flatten\n",
    "* Fully Connected with output size 4 x 4 x 64\n",
    "* Leaky ReLU(alpha=0.01)\n",
    "* Fully Connected with output size 1\n",
    "\n",
    "Once again, please use biases for all convolutional and fully connected layers, and use the default parameter initializers. Note that a padding of 0 can be accomplished with the 'VALID' padding option.\n",
    "\n",
    "Implement `dc_discriminator` in `cs231n/gan_tf.py`"
   ]
  },
  {
   "cell_type": "code",
   "execution_count": null,
   "metadata": {},
   "outputs": [],
   "source": [
    "from cs231n.gan_tf import dc_discriminator\n",
    "\n",
    "# model = dc_discriminator()\n",
    "test_discriminator(1102721, dc_discriminator)"
   ]
  },
  {
   "cell_type": "markdown",
   "metadata": {},
   "source": [
    "#### Generator\n",
    "For the generator, we will copy the architecture exactly from the [InfoGAN paper](https://arxiv.org/pdf/1606.03657.pdf). See Appendix C.1 MNIST. Please use `tf.keras.layers` for your implementation. You might find the documentation for [tf.keras.layers.Conv2DTranspose](https://www.tensorflow.org/versions/r2.0/api_docs/python/tf/keras/layers/Conv2DTranspose) useful. The architecture is as follows.\n",
    "\n",
    "Architecture:\n",
    "* Fully connected with output size 1024 \n",
    "* `ReLU`\n",
    "* BatchNorm\n",
    "* Fully connected with output size 7 x 7 x 128 \n",
    "* `ReLU`\n",
    "* BatchNorm\n",
    "* Resize into Image Tensor of size 7, 7, 128\n",
    "* Conv2D^T (transpose): 64 filters of 4x4, stride 2\n",
    "* `ReLU`\n",
    "* BatchNorm\n",
    "* Conv2d^T (transpose): 1 filter of 4x4, stride 2\n",
    "* `TanH`\n",
    "\n",
    "Once again, use biases for the fully connected and transpose convolutional layers. Please use the default initializers for your parameters. For padding, choose the 'same' option for transpose convolutions. For Batch Normalization, assume we are always in 'training' mode.\n",
    "\n",
    "Implement `dc_generator` in `cs231n/gan_tf.py`"
   ]
  },
  {
   "cell_type": "code",
   "execution_count": null,
   "metadata": {},
   "outputs": [],
   "source": [
    "from cs231n.gan_tf import dc_generator\n",
    "\n",
    "\n",
    "test_generator(6595521, generator=dc_generator)"
   ]
  },
  {
   "cell_type": "markdown",
   "metadata": {},
   "source": [
    "We have to recreate our network since we've changed our functions."
   ]
  },
  {
   "cell_type": "markdown",
   "metadata": {},
   "source": [
    "### Train and evaluate a DCGAN\n",
    "This is the one part of A3 that significantly benefits from using a GPU. It takes 3 minutes on a GPU for the requested five epochs. Or about 50 minutes on a dual core laptop on CPU (feel free to use 3 epochs if you do it on CPU)."
   ]
  },
  {
   "cell_type": "code",
   "execution_count": null,
   "metadata": {},
   "outputs": [],
   "source": [
    "# Make the discriminator\n",
    "D = dc_discriminator()\n",
    "\n",
    "# Make the generator\n",
    "G = dc_generator()\n",
    "\n",
    "# Use the function you wrote earlier to get optimizers for the Discriminator and the Generator\n",
    "D_solver, G_solver = get_solvers()\n",
    "\n",
    "# Run it!\n",
    "images, final = run_a_gan(D, G, D_solver, G_solver, discriminator_loss, generator_loss, num_epochs=5)"
   ]
  },
  {
   "cell_type": "code",
   "execution_count": null,
   "metadata": {},
   "outputs": [],
   "source": [
    "numIter = 0\n",
    "for img in images:\n",
    "    print(\"Iter: {}\".format(numIter))\n",
    "    show_images(img)\n",
    "    plt.show()\n",
    "    numIter += 20\n",
    "    print()\n",
    "    "
   ]
  },
  {
   "cell_type": "markdown",
   "metadata": {},
   "source": [
    "**Please tag the cell below on Gradescope while submitting.**"
   ]
  },
  {
   "cell_type": "code",
   "execution_count": null,
   "metadata": {},
   "outputs": [],
   "source": [
    "print('DCGAN Final images')\n",
    "show_images(final)\n",
    "plt.show()"
   ]
  },
  {
   "cell_type": "code",
   "execution_count": null,
   "metadata": {},
   "outputs": [],
   "source": []
  },
  {
   "cell_type": "markdown",
   "metadata": {
    "tags": [
     "pdf-inline"
    ]
   },
   "source": [
    "## INLINE QUESTION 1\n",
    "\n",
    "We will look at an example to see why alternating minimization of the same objective (like in a GAN) can be tricky business.\n",
    "\n",
    "Consider $f(x,y)=xy$. What does $\\min_x\\max_y f(x,y)$ evaluate to? (Hint: minmax tries to minimize the maximum value achievable.)\n",
    "\n",
    "Now try to evaluate this function numerically for 6 steps, starting at the point $(1,1)$, \n",
    "by using alternating gradient (first updating y, then updating x using that updated y) with step size $1$. **Here step size is the learning_rate, and steps will be learning_rate * gradient.**\n",
    "You'll find that writing out the update step in terms of $x_t,y_t,x_{t+1},y_{t+1}$ will be useful.\n",
    "\n",
    "Breifly explain what $\\min_x\\max_y f(x,y)$ evaluates to and record the six pairs of explicit values for $(x_t,y_t)$ in the table below.\n",
    "\n",
    "### Your answer:\n",
    " \n",
    " $y_0$ | $y_1$ | $y_2$ | $y_3$ | $y_4$ | $y_5$ | $y_6$ \n",
    " ----- | ----- | ----- | ----- | ----- | ----- | ----- \n",
    "   1   |       |       |       |       |       |       \n",
    " $x_0$ | $x_1$ | $x_2$ | $x_3$ | $x_4$ | $x_5$ | $x_6$ \n",
    "   1   |       |       |       |       |       |       \n",
    "   \n"
   ]
  },
  {
   "cell_type": "markdown",
   "metadata": {
    "tags": [
     "pdf-inline"
    ]
   },
   "source": [
    "## INLINE QUESTION 2\n",
    "Using this method, will we ever reach the optimal value? Why or why not?\n",
    "\n",
    "### Your answer: \n"
   ]
  },
  {
   "cell_type": "markdown",
   "metadata": {
    "tags": [
     "pdf-inline"
    ]
   },
   "source": [
    "## INLINE QUESTION 3\n",
    "If the generator loss decreases during training while the discriminator loss stays at a constant high value from the start, is this a good sign? Why or why not? A qualitative answer is sufficient.\n",
    "\n",
    "### Your answer: \n"
   ]
  },
  {
   "cell_type": "code",
   "execution_count": null,
   "metadata": {},
   "outputs": [],
   "source": []
  }
 ],
 "metadata": {
  "kernelspec": {
   "name": "python_defaultSpec_1601566812251",
   "display_name": "Python 3.8.5 64-bit ('tf23': conda)"
  }
 },
 "nbformat": 4,
 "nbformat_minor": 2
}